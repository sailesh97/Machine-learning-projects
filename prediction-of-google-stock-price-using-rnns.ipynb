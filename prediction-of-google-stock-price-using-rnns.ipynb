{
 "cells": [
  {
   "cell_type": "code",
   "execution_count": 1,
   "metadata": {
    "_cell_guid": "b1076dfc-b9ad-4769-8c92-a6c4dae69d19",
    "_uuid": "8f2839f25d086af736a60e9eeb907d3b93b6e0e5"
   },
   "outputs": [
    {
     "name": "stdout",
     "output_type": "stream",
     "text": [
      "['Google_Stock_Price_Train.csv', 'Google_Stock_Price_Test.csv']\n"
     ]
    }
   ],
   "source": [
    "# This Python 3 environment comes with many helpful analytics libraries installed\n",
    "# It is defined by the kaggle/python docker image: https://github.com/kaggle/docker-python\n",
    "# For example, here's several helpful packages to load in \n",
    "\n",
    "import numpy as np # linear algebra\n",
    "import pandas as pd # data processing, CSV file I/O (e.g. pd.read_csv)\n",
    "\n",
    "# Input data files are available in the \"../input/\" directory.\n",
    "# For example, running this (by clicking run or pressing Shift+Enter) will list the files in the input directory\n",
    "\n",
    "import os\n",
    "print(os.listdir(\"../input\"))\n",
    "\n",
    "# Any results you write to the current directory are saved as output."
   ]
  },
  {
   "cell_type": "code",
   "execution_count": 2,
   "metadata": {
    "_cell_guid": "79c7e3d0-c299-4dcb-8224-4455121ee9b0",
    "_uuid": "d629ff2d2480ee46fbb7e2d37f6b5fab8052498a"
   },
   "outputs": [],
   "source": [
    "#First approach to predict Stock prices.\n",
    "import matplotlib.pyplot as plt\n",
    "import seaborn as sns\n",
    "\n",
    "sns.set_style('whitegrid')\n",
    "\n",
    "params={'legend.fontsize':'x-large',\n",
    "       'figure.figsize':(20,10),\n",
    "       'axes.labelsize':'x-large',\n",
    "       'axes.titlesize':'x-large',\n",
    "       'xtick.labelsize':'x-large',\n",
    "       'ytick.labelsize':'x-large'}\n",
    "plt.rcParams.update(params)"
   ]
  },
  {
   "cell_type": "code",
   "execution_count": 3,
   "metadata": {
    "_uuid": "f2310e17edd0ce5c55f16fcde81e1cdcc7c12ac3"
   },
   "outputs": [
    {
     "name": "stdout",
     "output_type": "stream",
     "text": [
      "(1258, 6)\n"
     ]
    },
    {
     "data": {
      "text/html": [
       "<div>\n",
       "<style scoped>\n",
       "    .dataframe tbody tr th:only-of-type {\n",
       "        vertical-align: middle;\n",
       "    }\n",
       "\n",
       "    .dataframe tbody tr th {\n",
       "        vertical-align: top;\n",
       "    }\n",
       "\n",
       "    .dataframe thead th {\n",
       "        text-align: right;\n",
       "    }\n",
       "</style>\n",
       "<table border=\"1\" class=\"dataframe\">\n",
       "  <thead>\n",
       "    <tr style=\"text-align: right;\">\n",
       "      <th></th>\n",
       "      <th>Date</th>\n",
       "      <th>Open</th>\n",
       "      <th>High</th>\n",
       "      <th>Low</th>\n",
       "      <th>Close</th>\n",
       "      <th>Volume</th>\n",
       "    </tr>\n",
       "  </thead>\n",
       "  <tbody>\n",
       "    <tr>\n",
       "      <th>0</th>\n",
       "      <td>26-Sep-17</td>\n",
       "      <td>936.69</td>\n",
       "      <td>944.08</td>\n",
       "      <td>935.12</td>\n",
       "      <td>937.43</td>\n",
       "      <td>1672749</td>\n",
       "    </tr>\n",
       "    <tr>\n",
       "      <th>1</th>\n",
       "      <td>25-Sep-17</td>\n",
       "      <td>939.45</td>\n",
       "      <td>939.75</td>\n",
       "      <td>924.51</td>\n",
       "      <td>934.28</td>\n",
       "      <td>1873375</td>\n",
       "    </tr>\n",
       "    <tr>\n",
       "      <th>2</th>\n",
       "      <td>22-Sep-17</td>\n",
       "      <td>942.77</td>\n",
       "      <td>950.00</td>\n",
       "      <td>940.84</td>\n",
       "      <td>943.26</td>\n",
       "      <td>1074806</td>\n",
       "    </tr>\n",
       "    <tr>\n",
       "      <th>3</th>\n",
       "      <td>21-Sep-17</td>\n",
       "      <td>948.13</td>\n",
       "      <td>952.80</td>\n",
       "      <td>939.38</td>\n",
       "      <td>947.55</td>\n",
       "      <td>1370685</td>\n",
       "    </tr>\n",
       "    <tr>\n",
       "      <th>4</th>\n",
       "      <td>20-Sep-17</td>\n",
       "      <td>937.73</td>\n",
       "      <td>950.00</td>\n",
       "      <td>937.50</td>\n",
       "      <td>947.54</td>\n",
       "      <td>2004018</td>\n",
       "    </tr>\n",
       "  </tbody>\n",
       "</table>\n",
       "</div>"
      ],
      "text/plain": [
       "        Date    Open    High     Low   Close   Volume\n",
       "0  26-Sep-17  936.69  944.08  935.12  937.43  1672749\n",
       "1  25-Sep-17  939.45  939.75  924.51  934.28  1873375\n",
       "2  22-Sep-17  942.77  950.00  940.84  943.26  1074806\n",
       "3  21-Sep-17  948.13  952.80  939.38  947.55  1370685\n",
       "4  20-Sep-17  937.73  950.00  937.50  947.54  2004018"
      ]
     },
     "execution_count": 3,
     "metadata": {},
     "output_type": "execute_result"
    }
   ],
   "source": [
    "gs_df_train=pd.read_csv('../input/Google_Stock_Price_Train.csv')\n",
    "print(gs_df_train.shape)\n",
    "gs_df_train.head()"
   ]
  },
  {
   "cell_type": "code",
   "execution_count": 4,
   "metadata": {
    "_uuid": "ae720830f0052e42b55119aae088c02920db1778"
   },
   "outputs": [
    {
     "data": {
      "text/plain": [
       "array([[0.89914537],\n",
       "       [0.90319129],\n",
       "       [0.90805811],\n",
       "       ...,\n",
       "       [0.07934972],\n",
       "       [0.08360086],\n",
       "       [0.07619802]])"
      ]
     },
     "execution_count": 4,
     "metadata": {},
     "output_type": "execute_result"
    }
   ],
   "source": [
    "#Normalization\n",
    "training_set=gs_df_train.iloc[:,1:2].values\n",
    "from sklearn.preprocessing import MinMaxScaler\n",
    "sc=MinMaxScaler(feature_range=(0,1))\n",
    "training_sc_set=sc.fit_transform(training_set)\n",
    "training_sc_set"
   ]
  },
  {
   "cell_type": "code",
   "execution_count": 5,
   "metadata": {
    "_uuid": "ba898700a40570f76245506186f419cfa40ab4c7"
   },
   "outputs": [
    {
     "name": "stdout",
     "output_type": "stream",
     "text": [
      "(1248, 10) (1248,)\n"
     ]
    }
   ],
   "source": [
    "#Split the training set (10 timestamps)\n",
    "X_train=[]\n",
    "y_train=[]\n",
    "for i in range(10,1258):\n",
    "    X_train.append(training_sc_set[i-10:i,0])\n",
    "    y_train.append(training_sc_set[i,0])\n",
    "X_train,y_train=np.array(X_train),np.array(y_train)\n",
    "print(X_train.shape,y_train.shape)\n"
   ]
  },
  {
   "cell_type": "code",
   "execution_count": 6,
   "metadata": {
    "_uuid": "9d603e8d7a7666faef4b58ed09604adba3d6749a"
   },
   "outputs": [
    {
     "data": {
      "text/plain": [
       "(1248, 10, 1)"
      ]
     },
     "execution_count": 6,
     "metadata": {},
     "output_type": "execute_result"
    }
   ],
   "source": [
    "#Reshape the X_train(model require format)\n",
    "X_train=np.reshape(X_train,(X_train.shape[0],X_train.shape[1],1))\n",
    "X_train.shape"
   ]
  },
  {
   "cell_type": "code",
   "execution_count": 7,
   "metadata": {
    "_uuid": "5831e00f4645d4804a13651ee0b3148925dab2ee"
   },
   "outputs": [
    {
     "name": "stderr",
     "output_type": "stream",
     "text": [
      "Using TensorFlow backend.\n"
     ]
    }
   ],
   "source": [
    "#LSTM model(Long Short Term Memory)\n",
    "import keras\n",
    "from keras.models import Sequential\n",
    "from keras.layers import LSTM\n",
    "from keras.layers import Dense\n",
    "from keras.layers import Dropout,Flatten\n",
    "from keras import backend as k"
   ]
  },
  {
   "cell_type": "code",
   "execution_count": 8,
   "metadata": {
    "_uuid": "9cb356229de8075b221720a7cfda2864ea10c189"
   },
   "outputs": [
    {
     "data": {
      "text/plain": [
       "<keras.engine.sequential.Sequential at 0x7fdd3c6a5cf8>"
      ]
     },
     "execution_count": 8,
     "metadata": {},
     "output_type": "execute_result"
    }
   ],
   "source": [
    "model=Sequential()\n",
    "model"
   ]
  },
  {
   "cell_type": "code",
   "execution_count": 9,
   "metadata": {
    "_uuid": "4cdc7ff87c93d7f0866e7b8992033d10a119f537",
    "scrolled": true
   },
   "outputs": [
    {
     "name": "stdout",
     "output_type": "stream",
     "text": [
      "Epoch 1/50\n",
      "1248/1248 [==============================] - 1s 953us/step - loss: 0.0159\n",
      "Epoch 2/50\n",
      "1248/1248 [==============================] - 0s 251us/step - loss: 0.0029\n",
      "Epoch 3/50\n",
      "1248/1248 [==============================] - 0s 248us/step - loss: 0.0026\n",
      "Epoch 4/50\n",
      "1248/1248 [==============================] - 0s 242us/step - loss: 0.0021\n",
      "Epoch 5/50\n",
      "1248/1248 [==============================] - 0s 256us/step - loss: 0.0021\n",
      "Epoch 6/50\n",
      "1248/1248 [==============================] - 0s 249us/step - loss: 0.0020\n",
      "Epoch 7/50\n",
      "1248/1248 [==============================] - 0s 251us/step - loss: 0.0020\n",
      "Epoch 8/50\n",
      "1248/1248 [==============================] - 0s 259us/step - loss: 0.0017\n",
      "Epoch 9/50\n",
      "1248/1248 [==============================] - 0s 258us/step - loss: 0.0017\n",
      "Epoch 10/50\n",
      "1248/1248 [==============================] - 0s 245us/step - loss: 0.0016\n",
      "Epoch 11/50\n",
      "1248/1248 [==============================] - 0s 243us/step - loss: 0.0017\n",
      "Epoch 12/50\n",
      "1248/1248 [==============================] - 0s 246us/step - loss: 0.0016\n",
      "Epoch 13/50\n",
      "1248/1248 [==============================] - 0s 247us/step - loss: 0.0016\n",
      "Epoch 14/50\n",
      "1248/1248 [==============================] - 0s 247us/step - loss: 0.0014\n",
      "Epoch 15/50\n",
      "1248/1248 [==============================] - 0s 256us/step - loss: 0.0015\n",
      "Epoch 16/50\n",
      "1248/1248 [==============================] - 0s 269us/step - loss: 0.0013\n",
      "Epoch 17/50\n",
      "1248/1248 [==============================] - 0s 247us/step - loss: 0.0014\n",
      "Epoch 18/50\n",
      "1248/1248 [==============================] - 0s 253us/step - loss: 0.0014\n",
      "Epoch 19/50\n",
      "1248/1248 [==============================] - 0s 244us/step - loss: 0.0014\n",
      "Epoch 20/50\n",
      "1248/1248 [==============================] - 0s 248us/step - loss: 0.0011\n",
      "Epoch 21/50\n",
      "1248/1248 [==============================] - 0s 256us/step - loss: 0.0013\n",
      "Epoch 22/50\n",
      "1248/1248 [==============================] - 0s 266us/step - loss: 0.0012\n",
      "Epoch 23/50\n",
      "1248/1248 [==============================] - 0s 250us/step - loss: 0.0011\n",
      "Epoch 24/50\n",
      "1248/1248 [==============================] - 0s 244us/step - loss: 0.0011\n",
      "Epoch 25/50\n",
      "1248/1248 [==============================] - 0s 247us/step - loss: 0.0012\n",
      "Epoch 26/50\n",
      "1248/1248 [==============================] - 0s 255us/step - loss: 0.0012\n",
      "Epoch 27/50\n",
      "1248/1248 [==============================] - 0s 267us/step - loss: 0.0011\n",
      "Epoch 28/50\n",
      "1248/1248 [==============================] - 0s 253us/step - loss: 0.0012\n",
      "Epoch 29/50\n",
      "1248/1248 [==============================] - 0s 251us/step - loss: 0.0010\n",
      "Epoch 30/50\n",
      "1248/1248 [==============================] - 0s 243us/step - loss: 0.0011\n",
      "Epoch 31/50\n",
      "1248/1248 [==============================] - 0s 245us/step - loss: 9.2746e-04\n",
      "Epoch 32/50\n",
      "1248/1248 [==============================] - 0s 246us/step - loss: 9.8063e-04\n",
      "Epoch 33/50\n",
      "1248/1248 [==============================] - 0s 254us/step - loss: 0.0010\n",
      "Epoch 34/50\n",
      "1248/1248 [==============================] - 0s 248us/step - loss: 0.0010\n",
      "Epoch 35/50\n",
      "1248/1248 [==============================] - 0s 252us/step - loss: 0.0010\n",
      "Epoch 36/50\n",
      "1248/1248 [==============================] - 0s 246us/step - loss: 9.3137e-04\n",
      "Epoch 37/50\n",
      "1248/1248 [==============================] - 0s 254us/step - loss: 9.4579e-04\n",
      "Epoch 38/50\n",
      "1248/1248 [==============================] - 0s 247us/step - loss: 9.2175e-04\n",
      "Epoch 39/50\n",
      "1248/1248 [==============================] - 0s 241us/step - loss: 9.0013e-04\n",
      "Epoch 40/50\n",
      "1248/1248 [==============================] - 0s 251us/step - loss: 9.2417e-04\n",
      "Epoch 41/50\n",
      "1248/1248 [==============================] - 0s 248us/step - loss: 9.1939e-04\n",
      "Epoch 42/50\n",
      "1248/1248 [==============================] - 0s 251us/step - loss: 8.6715e-04\n",
      "Epoch 43/50\n",
      "1248/1248 [==============================] - 0s 249us/step - loss: 8.6043e-04\n",
      "Epoch 44/50\n",
      "1248/1248 [==============================] - 0s 248us/step - loss: 8.7287e-04\n",
      "Epoch 45/50\n",
      "1248/1248 [==============================] - 0s 243us/step - loss: 8.0667e-04\n",
      "Epoch 46/50\n",
      "1248/1248 [==============================] - 0s 252us/step - loss: 9.0351e-04\n",
      "Epoch 47/50\n",
      "1248/1248 [==============================] - 0s 255us/step - loss: 8.0485e-04\n",
      "Epoch 48/50\n",
      "1248/1248 [==============================] - 0s 270us/step - loss: 9.0724e-04\n",
      "Epoch 49/50\n",
      "1248/1248 [==============================] - 0s 241us/step - loss: 8.2573e-04\n",
      "Epoch 50/50\n",
      "1248/1248 [==============================] - 0s 248us/step - loss: 8.1028e-04\n"
     ]
    },
    {
     "data": {
      "text/plain": [
       "<keras.callbacks.History at 0x7fdd38420fd0>"
      ]
     },
     "execution_count": 9,
     "metadata": {},
     "output_type": "execute_result"
    }
   ],
   "source": [
    "model.add(LSTM(units=50,return_sequences=True,input_shape=(10,1)))\n",
    "model.add(Dropout(0.2))\n",
    "#model.add(LSTM(units=50,return_sequences=True))\n",
    "#model.add(Dropout(0.2))\n",
    "model.add(Flatten(data_format=None))\n",
    "model.add(Dense(units=1))\n",
    "model.compile(optimizer='RMSprop',loss='mean_squared_error')\n",
    "\n",
    "model.fit(X_train,y_train,epochs=50,batch_size=32)"
   ]
  },
  {
   "cell_type": "code",
   "execution_count": 10,
   "metadata": {
    "_uuid": "b76e8457aec561816a79523844cc56f42123051b"
   },
   "outputs": [
    {
     "name": "stdout",
     "output_type": "stream",
     "text": [
      "(21, 6)\n"
     ]
    },
    {
     "data": {
      "text/html": [
       "<div>\n",
       "<style scoped>\n",
       "    .dataframe tbody tr th:only-of-type {\n",
       "        vertical-align: middle;\n",
       "    }\n",
       "\n",
       "    .dataframe tbody tr th {\n",
       "        vertical-align: top;\n",
       "    }\n",
       "\n",
       "    .dataframe thead th {\n",
       "        text-align: right;\n",
       "    }\n",
       "</style>\n",
       "<table border=\"1\" class=\"dataframe\">\n",
       "  <thead>\n",
       "    <tr style=\"text-align: right;\">\n",
       "      <th></th>\n",
       "      <th>Date</th>\n",
       "      <th>Open</th>\n",
       "      <th>High</th>\n",
       "      <th>Low</th>\n",
       "      <th>Close</th>\n",
       "      <th>Volume</th>\n",
       "    </tr>\n",
       "  </thead>\n",
       "  <tbody>\n",
       "    <tr>\n",
       "      <th>0</th>\n",
       "      <td>25-Oct-17</td>\n",
       "      <td>986.27</td>\n",
       "      <td>994.43</td>\n",
       "      <td>977.72</td>\n",
       "      <td>991.46</td>\n",
       "      <td>1395282</td>\n",
       "    </tr>\n",
       "    <tr>\n",
       "      <th>1</th>\n",
       "      <td>24-Oct-17</td>\n",
       "      <td>986.50</td>\n",
       "      <td>989.26</td>\n",
       "      <td>977.08</td>\n",
       "      <td>988.49</td>\n",
       "      <td>1445129</td>\n",
       "    </tr>\n",
       "    <tr>\n",
       "      <th>2</th>\n",
       "      <td>23-Oct-17</td>\n",
       "      <td>1005.18</td>\n",
       "      <td>1005.79</td>\n",
       "      <td>983.10</td>\n",
       "      <td>985.54</td>\n",
       "      <td>1639294</td>\n",
       "    </tr>\n",
       "    <tr>\n",
       "      <th>3</th>\n",
       "      <td>20-Oct-17</td>\n",
       "      <td>1007.05</td>\n",
       "      <td>1008.65</td>\n",
       "      <td>1002.27</td>\n",
       "      <td>1005.07</td>\n",
       "      <td>1606031</td>\n",
       "    </tr>\n",
       "    <tr>\n",
       "      <th>4</th>\n",
       "      <td>19-Oct-17</td>\n",
       "      <td>1004.75</td>\n",
       "      <td>1007.32</td>\n",
       "      <td>997.30</td>\n",
       "      <td>1001.84</td>\n",
       "      <td>1714243</td>\n",
       "    </tr>\n",
       "  </tbody>\n",
       "</table>\n",
       "</div>"
      ],
      "text/plain": [
       "        Date     Open     High      Low    Close   Volume\n",
       "0  25-Oct-17   986.27   994.43   977.72   991.46  1395282\n",
       "1  24-Oct-17   986.50   989.26   977.08   988.49  1445129\n",
       "2  23-Oct-17  1005.18  1005.79   983.10   985.54  1639294\n",
       "3  20-Oct-17  1007.05  1008.65  1002.27  1005.07  1606031\n",
       "4  19-Oct-17  1004.75  1007.32   997.30  1001.84  1714243"
      ]
     },
     "execution_count": 10,
     "metadata": {},
     "output_type": "execute_result"
    }
   ],
   "source": [
    "#Test dataset and testing the model\n",
    "gs_df_test=pd.read_csv('../input/Google_Stock_Price_Test.csv')\n",
    "print(gs_df_test.shape)\n",
    "gs_df_test.head()"
   ]
  },
  {
   "cell_type": "code",
   "execution_count": 11,
   "metadata": {
    "_uuid": "9468bc594b84efe4a695921483e5670e7f27cb6e"
   },
   "outputs": [
    {
     "data": {
      "text/plain": [
       "array([[ 986.27],\n",
       "       [ 986.5 ],\n",
       "       [1005.18],\n",
       "       [1007.05],\n",
       "       [1004.75],\n",
       "       [1011.05],\n",
       "       [1007.44],\n",
       "       [1009.63],\n",
       "       [1009.11],\n",
       "       [1003.84],\n",
       "       [ 989.04],\n",
       "       [ 995.3 ],\n",
       "       [ 995.  ],\n",
       "       [ 980.  ],\n",
       "       [ 972.79],\n",
       "       [ 971.76],\n",
       "       [ 967.56],\n",
       "       [ 975.65],\n",
       "       [ 966.  ],\n",
       "       [ 956.25],\n",
       "       [ 942.74]])"
      ]
     },
     "execution_count": 11,
     "metadata": {},
     "output_type": "execute_result"
    }
   ],
   "source": [
    "real_gs_price=gs_df_test.iloc[:,1:2].values\n",
    "real_gs_price\n"
   ]
  },
  {
   "cell_type": "code",
   "execution_count": 12,
   "metadata": {
    "_uuid": "a8a135c162a65ed83b8269ebe19e94a55e1aa519"
   },
   "outputs": [
    {
     "name": "stdout",
     "output_type": "stream",
     "text": [
      "(1279,)\n"
     ]
    },
    {
     "data": {
      "text/plain": [
       "0        936.69\n",
       "1        939.45\n",
       "2        942.77\n",
       "3        948.13\n",
       "4        937.73\n",
       "5        933.41\n",
       "6        935.01\n",
       "7        940.09\n",
       "8        946.00\n",
       "9        945.50\n",
       "10       946.92\n",
       "11       947.20\n",
       "12       949.70\n",
       "13       944.25\n",
       "14       943.87\n",
       "15       946.86\n",
       "16       957.47\n",
       "17       946.30\n",
       "18       935.67\n",
       "19       919.95\n",
       "20       931.88\n",
       "21       939.21\n",
       "22       943.71\n",
       "23       937.00\n",
       "24       926.96\n",
       "25       925.77\n",
       "26       926.98\n",
       "27       942.95\n",
       "28       941.25\n",
       "29       941.03\n",
       "         ...   \n",
       "1249     380.88\n",
       "1250     385.74\n",
       "1251     381.76\n",
       "1252     378.24\n",
       "1253     382.98\n",
       "1254     379.90\n",
       "1255     377.45\n",
       "1256     380.35\n",
       "1257     375.30\n",
       "0        986.27\n",
       "1        986.50\n",
       "2       1005.18\n",
       "3       1007.05\n",
       "4       1004.75\n",
       "5       1011.05\n",
       "6       1007.44\n",
       "7       1009.63\n",
       "8       1009.11\n",
       "9       1003.84\n",
       "10       989.04\n",
       "11       995.30\n",
       "12       995.00\n",
       "13       980.00\n",
       "14       972.79\n",
       "15       971.76\n",
       "16       967.56\n",
       "17       975.65\n",
       "18       966.00\n",
       "19       956.25\n",
       "20       942.74\n",
       "Name: Open, Length: 1279, dtype: float64"
      ]
     },
     "execution_count": 12,
     "metadata": {},
     "output_type": "execute_result"
    }
   ],
   "source": [
    "gs_df_total=pd.concat([gs_df_train['Open'],gs_df_test['Open']],axis=0)\n",
    "print(gs_df_total.shape)\n",
    "gs_df_total"
   ]
  },
  {
   "cell_type": "code",
   "execution_count": 13,
   "metadata": {
    "_uuid": "4ab33277518a8ff33b4127e544c088b0db3a82c1"
   },
   "outputs": [
    {
     "data": {
      "text/plain": [
       "array([ 380.22,  380.88,  385.74,  381.76,  378.24,  382.98,  379.9 ,\n",
       "        377.45,  380.35,  375.3 ,  986.27,  986.5 , 1005.18, 1007.05,\n",
       "       1004.75, 1011.05, 1007.44, 1009.63, 1009.11, 1003.84,  989.04,\n",
       "        995.3 ,  995.  ,  980.  ,  972.79,  971.76,  967.56,  975.65,\n",
       "        966.  ,  956.25,  942.74])"
      ]
     },
     "execution_count": 13,
     "metadata": {},
     "output_type": "execute_result"
    }
   ],
   "source": [
    "test_input=gs_df_total[len(gs_df_total)-len(gs_df_test)-10:].values\n",
    "test_input"
   ]
  },
  {
   "cell_type": "code",
   "execution_count": 14,
   "metadata": {
    "_uuid": "528b1581a46770a1892fb9eb75d192e727aa21b1"
   },
   "outputs": [
    {
     "name": "stdout",
     "output_type": "stream",
     "text": [
      "(31, 1)\n"
     ]
    },
    {
     "data": {
      "text/plain": [
       "array([[ 380.22],\n",
       "       [ 380.88],\n",
       "       [ 385.74],\n",
       "       [ 381.76],\n",
       "       [ 378.24],\n",
       "       [ 382.98],\n",
       "       [ 379.9 ],\n",
       "       [ 377.45],\n",
       "       [ 380.35],\n",
       "       [ 375.3 ],\n",
       "       [ 986.27],\n",
       "       [ 986.5 ],\n",
       "       [1005.18],\n",
       "       [1007.05],\n",
       "       [1004.75],\n",
       "       [1011.05],\n",
       "       [1007.44],\n",
       "       [1009.63],\n",
       "       [1009.11],\n",
       "       [1003.84],\n",
       "       [ 989.04],\n",
       "       [ 995.3 ],\n",
       "       [ 995.  ],\n",
       "       [ 980.  ],\n",
       "       [ 972.79],\n",
       "       [ 971.76],\n",
       "       [ 967.56],\n",
       "       [ 975.65],\n",
       "       [ 966.  ],\n",
       "       [ 956.25],\n",
       "       [ 942.74]])"
      ]
     },
     "execution_count": 14,
     "metadata": {},
     "output_type": "execute_result"
    }
   ],
   "source": [
    "test_input=test_input.reshape(-1,1)\n",
    "print(test_input.shape)\n",
    "test_input"
   ]
  },
  {
   "cell_type": "code",
   "execution_count": 15,
   "metadata": {
    "_uuid": "b89c3672386b7df63d4cf82fd8c5cabb58952d92"
   },
   "outputs": [
    {
     "name": "stdout",
     "output_type": "stream",
     "text": [
      "(31, 1)\n"
     ]
    },
    {
     "data": {
      "text/plain": [
       "array([[0.08341029],\n",
       "       [0.08437779],\n",
       "       [0.09150212],\n",
       "       [0.0856678 ],\n",
       "       [0.08050779],\n",
       "       [0.08745621],\n",
       "       [0.0829412 ],\n",
       "       [0.07934972],\n",
       "       [0.08360086],\n",
       "       [0.07619802],\n",
       "       [0.9718252 ],\n",
       "       [0.97216236],\n",
       "       [0.99954557],\n",
       "       [1.00228682],\n",
       "       [0.99891523],\n",
       "       [1.00815046],\n",
       "       [1.00285853],\n",
       "       [1.00606887],\n",
       "       [1.0053066 ],\n",
       "       [0.99758125],\n",
       "       [0.97588578],\n",
       "       [0.98506237],\n",
       "       [0.9846226 ],\n",
       "       [0.96263395],\n",
       "       [0.95206473],\n",
       "       [0.95055485],\n",
       "       [0.94439802],\n",
       "       [0.95625724],\n",
       "       [0.9421112 ],\n",
       "       [0.92781858],\n",
       "       [0.90801413]])"
      ]
     },
     "execution_count": 15,
     "metadata": {},
     "output_type": "execute_result"
    }
   ],
   "source": [
    "test_input=sc.transform(test_input)\n",
    "print(test_input.shape)\n",
    "test_input"
   ]
  },
  {
   "cell_type": "code",
   "execution_count": 16,
   "metadata": {
    "_uuid": "fc7ce45402a5e37c37d359c71cd58cfdee19695f"
   },
   "outputs": [
    {
     "name": "stdout",
     "output_type": "stream",
     "text": [
      "(21, 10)\n"
     ]
    },
    {
     "data": {
      "text/plain": [
       "array([[0.08341029, 0.08437779, 0.09150212, 0.0856678 , 0.08050779,\n",
       "        0.08745621, 0.0829412 , 0.07934972, 0.08360086, 0.07619802],\n",
       "       [0.08437779, 0.09150212, 0.0856678 , 0.08050779, 0.08745621,\n",
       "        0.0829412 , 0.07934972, 0.08360086, 0.07619802, 0.9718252 ],\n",
       "       [0.09150212, 0.0856678 , 0.08050779, 0.08745621, 0.0829412 ,\n",
       "        0.07934972, 0.08360086, 0.07619802, 0.9718252 , 0.97216236],\n",
       "       [0.0856678 , 0.08050779, 0.08745621, 0.0829412 , 0.07934972,\n",
       "        0.08360086, 0.07619802, 0.9718252 , 0.97216236, 0.99954557],\n",
       "       [0.08050779, 0.08745621, 0.0829412 , 0.07934972, 0.08360086,\n",
       "        0.07619802, 0.9718252 , 0.97216236, 0.99954557, 1.00228682],\n",
       "       [0.08745621, 0.0829412 , 0.07934972, 0.08360086, 0.07619802,\n",
       "        0.9718252 , 0.97216236, 0.99954557, 1.00228682, 0.99891523],\n",
       "       [0.0829412 , 0.07934972, 0.08360086, 0.07619802, 0.9718252 ,\n",
       "        0.97216236, 0.99954557, 1.00228682, 0.99891523, 1.00815046],\n",
       "       [0.07934972, 0.08360086, 0.07619802, 0.9718252 , 0.97216236,\n",
       "        0.99954557, 1.00228682, 0.99891523, 1.00815046, 1.00285853],\n",
       "       [0.08360086, 0.07619802, 0.9718252 , 0.97216236, 0.99954557,\n",
       "        1.00228682, 0.99891523, 1.00815046, 1.00285853, 1.00606887],\n",
       "       [0.07619802, 0.9718252 , 0.97216236, 0.99954557, 1.00228682,\n",
       "        0.99891523, 1.00815046, 1.00285853, 1.00606887, 1.0053066 ],\n",
       "       [0.9718252 , 0.97216236, 0.99954557, 1.00228682, 0.99891523,\n",
       "        1.00815046, 1.00285853, 1.00606887, 1.0053066 , 0.99758125],\n",
       "       [0.97216236, 0.99954557, 1.00228682, 0.99891523, 1.00815046,\n",
       "        1.00285853, 1.00606887, 1.0053066 , 0.99758125, 0.97588578],\n",
       "       [0.99954557, 1.00228682, 0.99891523, 1.00815046, 1.00285853,\n",
       "        1.00606887, 1.0053066 , 0.99758125, 0.97588578, 0.98506237],\n",
       "       [1.00228682, 0.99891523, 1.00815046, 1.00285853, 1.00606887,\n",
       "        1.0053066 , 0.99758125, 0.97588578, 0.98506237, 0.9846226 ],\n",
       "       [0.99891523, 1.00815046, 1.00285853, 1.00606887, 1.0053066 ,\n",
       "        0.99758125, 0.97588578, 0.98506237, 0.9846226 , 0.96263395],\n",
       "       [1.00815046, 1.00285853, 1.00606887, 1.0053066 , 0.99758125,\n",
       "        0.97588578, 0.98506237, 0.9846226 , 0.96263395, 0.95206473],\n",
       "       [1.00285853, 1.00606887, 1.0053066 , 0.99758125, 0.97588578,\n",
       "        0.98506237, 0.9846226 , 0.96263395, 0.95206473, 0.95055485],\n",
       "       [1.00606887, 1.0053066 , 0.99758125, 0.97588578, 0.98506237,\n",
       "        0.9846226 , 0.96263395, 0.95206473, 0.95055485, 0.94439802],\n",
       "       [1.0053066 , 0.99758125, 0.97588578, 0.98506237, 0.9846226 ,\n",
       "        0.96263395, 0.95206473, 0.95055485, 0.94439802, 0.95625724],\n",
       "       [0.99758125, 0.97588578, 0.98506237, 0.9846226 , 0.96263395,\n",
       "        0.95206473, 0.95055485, 0.94439802, 0.95625724, 0.9421112 ],\n",
       "       [0.97588578, 0.98506237, 0.9846226 , 0.96263395, 0.95206473,\n",
       "        0.95055485, 0.94439802, 0.95625724, 0.9421112 , 0.92781858]])"
      ]
     },
     "execution_count": 16,
     "metadata": {},
     "output_type": "execute_result"
    }
   ],
   "source": [
    "X_test=[]\n",
    "for i in range(10,31):\n",
    "    X_test.append(test_input[i-10:i,0])\n",
    "\n",
    "X_test=np.array(X_test)\n",
    "print(X_test.shape)\n",
    "X_test"
   ]
  },
  {
   "cell_type": "code",
   "execution_count": 17,
   "metadata": {
    "_uuid": "aff5d4a350b3d8599f8ce54839255cb1de6f5d61"
   },
   "outputs": [
    {
     "name": "stdout",
     "output_type": "stream",
     "text": [
      "(21, 10, 1)\n"
     ]
    },
    {
     "data": {
      "text/plain": [
       "array([[[0.08341029],\n",
       "        [0.08437779],\n",
       "        [0.09150212],\n",
       "        [0.0856678 ],\n",
       "        [0.08050779],\n",
       "        [0.08745621],\n",
       "        [0.0829412 ],\n",
       "        [0.07934972],\n",
       "        [0.08360086],\n",
       "        [0.07619802]],\n",
       "\n",
       "       [[0.08437779],\n",
       "        [0.09150212],\n",
       "        [0.0856678 ],\n",
       "        [0.08050779],\n",
       "        [0.08745621],\n",
       "        [0.0829412 ],\n",
       "        [0.07934972],\n",
       "        [0.08360086],\n",
       "        [0.07619802],\n",
       "        [0.9718252 ]],\n",
       "\n",
       "       [[0.09150212],\n",
       "        [0.0856678 ],\n",
       "        [0.08050779],\n",
       "        [0.08745621],\n",
       "        [0.0829412 ],\n",
       "        [0.07934972],\n",
       "        [0.08360086],\n",
       "        [0.07619802],\n",
       "        [0.9718252 ],\n",
       "        [0.97216236]],\n",
       "\n",
       "       [[0.0856678 ],\n",
       "        [0.08050779],\n",
       "        [0.08745621],\n",
       "        [0.0829412 ],\n",
       "        [0.07934972],\n",
       "        [0.08360086],\n",
       "        [0.07619802],\n",
       "        [0.9718252 ],\n",
       "        [0.97216236],\n",
       "        [0.99954557]],\n",
       "\n",
       "       [[0.08050779],\n",
       "        [0.08745621],\n",
       "        [0.0829412 ],\n",
       "        [0.07934972],\n",
       "        [0.08360086],\n",
       "        [0.07619802],\n",
       "        [0.9718252 ],\n",
       "        [0.97216236],\n",
       "        [0.99954557],\n",
       "        [1.00228682]],\n",
       "\n",
       "       [[0.08745621],\n",
       "        [0.0829412 ],\n",
       "        [0.07934972],\n",
       "        [0.08360086],\n",
       "        [0.07619802],\n",
       "        [0.9718252 ],\n",
       "        [0.97216236],\n",
       "        [0.99954557],\n",
       "        [1.00228682],\n",
       "        [0.99891523]],\n",
       "\n",
       "       [[0.0829412 ],\n",
       "        [0.07934972],\n",
       "        [0.08360086],\n",
       "        [0.07619802],\n",
       "        [0.9718252 ],\n",
       "        [0.97216236],\n",
       "        [0.99954557],\n",
       "        [1.00228682],\n",
       "        [0.99891523],\n",
       "        [1.00815046]],\n",
       "\n",
       "       [[0.07934972],\n",
       "        [0.08360086],\n",
       "        [0.07619802],\n",
       "        [0.9718252 ],\n",
       "        [0.97216236],\n",
       "        [0.99954557],\n",
       "        [1.00228682],\n",
       "        [0.99891523],\n",
       "        [1.00815046],\n",
       "        [1.00285853]],\n",
       "\n",
       "       [[0.08360086],\n",
       "        [0.07619802],\n",
       "        [0.9718252 ],\n",
       "        [0.97216236],\n",
       "        [0.99954557],\n",
       "        [1.00228682],\n",
       "        [0.99891523],\n",
       "        [1.00815046],\n",
       "        [1.00285853],\n",
       "        [1.00606887]],\n",
       "\n",
       "       [[0.07619802],\n",
       "        [0.9718252 ],\n",
       "        [0.97216236],\n",
       "        [0.99954557],\n",
       "        [1.00228682],\n",
       "        [0.99891523],\n",
       "        [1.00815046],\n",
       "        [1.00285853],\n",
       "        [1.00606887],\n",
       "        [1.0053066 ]],\n",
       "\n",
       "       [[0.9718252 ],\n",
       "        [0.97216236],\n",
       "        [0.99954557],\n",
       "        [1.00228682],\n",
       "        [0.99891523],\n",
       "        [1.00815046],\n",
       "        [1.00285853],\n",
       "        [1.00606887],\n",
       "        [1.0053066 ],\n",
       "        [0.99758125]],\n",
       "\n",
       "       [[0.97216236],\n",
       "        [0.99954557],\n",
       "        [1.00228682],\n",
       "        [0.99891523],\n",
       "        [1.00815046],\n",
       "        [1.00285853],\n",
       "        [1.00606887],\n",
       "        [1.0053066 ],\n",
       "        [0.99758125],\n",
       "        [0.97588578]],\n",
       "\n",
       "       [[0.99954557],\n",
       "        [1.00228682],\n",
       "        [0.99891523],\n",
       "        [1.00815046],\n",
       "        [1.00285853],\n",
       "        [1.00606887],\n",
       "        [1.0053066 ],\n",
       "        [0.99758125],\n",
       "        [0.97588578],\n",
       "        [0.98506237]],\n",
       "\n",
       "       [[1.00228682],\n",
       "        [0.99891523],\n",
       "        [1.00815046],\n",
       "        [1.00285853],\n",
       "        [1.00606887],\n",
       "        [1.0053066 ],\n",
       "        [0.99758125],\n",
       "        [0.97588578],\n",
       "        [0.98506237],\n",
       "        [0.9846226 ]],\n",
       "\n",
       "       [[0.99891523],\n",
       "        [1.00815046],\n",
       "        [1.00285853],\n",
       "        [1.00606887],\n",
       "        [1.0053066 ],\n",
       "        [0.99758125],\n",
       "        [0.97588578],\n",
       "        [0.98506237],\n",
       "        [0.9846226 ],\n",
       "        [0.96263395]],\n",
       "\n",
       "       [[1.00815046],\n",
       "        [1.00285853],\n",
       "        [1.00606887],\n",
       "        [1.0053066 ],\n",
       "        [0.99758125],\n",
       "        [0.97588578],\n",
       "        [0.98506237],\n",
       "        [0.9846226 ],\n",
       "        [0.96263395],\n",
       "        [0.95206473]],\n",
       "\n",
       "       [[1.00285853],\n",
       "        [1.00606887],\n",
       "        [1.0053066 ],\n",
       "        [0.99758125],\n",
       "        [0.97588578],\n",
       "        [0.98506237],\n",
       "        [0.9846226 ],\n",
       "        [0.96263395],\n",
       "        [0.95206473],\n",
       "        [0.95055485]],\n",
       "\n",
       "       [[1.00606887],\n",
       "        [1.0053066 ],\n",
       "        [0.99758125],\n",
       "        [0.97588578],\n",
       "        [0.98506237],\n",
       "        [0.9846226 ],\n",
       "        [0.96263395],\n",
       "        [0.95206473],\n",
       "        [0.95055485],\n",
       "        [0.94439802]],\n",
       "\n",
       "       [[1.0053066 ],\n",
       "        [0.99758125],\n",
       "        [0.97588578],\n",
       "        [0.98506237],\n",
       "        [0.9846226 ],\n",
       "        [0.96263395],\n",
       "        [0.95206473],\n",
       "        [0.95055485],\n",
       "        [0.94439802],\n",
       "        [0.95625724]],\n",
       "\n",
       "       [[0.99758125],\n",
       "        [0.97588578],\n",
       "        [0.98506237],\n",
       "        [0.9846226 ],\n",
       "        [0.96263395],\n",
       "        [0.95206473],\n",
       "        [0.95055485],\n",
       "        [0.94439802],\n",
       "        [0.95625724],\n",
       "        [0.9421112 ]],\n",
       "\n",
       "       [[0.97588578],\n",
       "        [0.98506237],\n",
       "        [0.9846226 ],\n",
       "        [0.96263395],\n",
       "        [0.95206473],\n",
       "        [0.95055485],\n",
       "        [0.94439802],\n",
       "        [0.95625724],\n",
       "        [0.9421112 ],\n",
       "        [0.92781858]]])"
      ]
     },
     "execution_count": 17,
     "metadata": {},
     "output_type": "execute_result"
    }
   ],
   "source": [
    "#Reshape the X_test(model require format)\n",
    "X_test=np.reshape(X_test,(X_test.shape[0],X_test.shape[1],1))\n",
    "print(X_test.shape)\n",
    "X_test"
   ]
  },
  {
   "cell_type": "code",
   "execution_count": 18,
   "metadata": {
    "_uuid": "bace1526d6e85e048313d6e79835c199eca2c7c2"
   },
   "outputs": [
    {
     "data": {
      "text/plain": [
       "array([[0.07745296],\n",
       "       [0.22173557],\n",
       "       [0.3961944 ],\n",
       "       [0.54920787],\n",
       "       [0.6662048 ],\n",
       "       [0.75005686],\n",
       "       [0.81635606],\n",
       "       [0.8484589 ],\n",
       "       [0.88313544],\n",
       "       [0.9325187 ],\n",
       "       [0.9862648 ],\n",
       "       [0.9828602 ],\n",
       "       [0.98047054],\n",
       "       [0.9779966 ],\n",
       "       [0.97251904],\n",
       "       [0.96530366],\n",
       "       [0.95819485],\n",
       "       [0.9522569 ],\n",
       "       [0.94864595],\n",
       "       [0.9437854 ],\n",
       "       [0.937485  ]], dtype=float32)"
      ]
     },
     "execution_count": 18,
     "metadata": {},
     "output_type": "execute_result"
    }
   ],
   "source": [
    "#prediction of the google stock price\n",
    "predicted_gs_price=model.predict(X_test)\n",
    "predicted_gs_price"
   ]
  },
  {
   "cell_type": "code",
   "execution_count": 19,
   "metadata": {
    "_uuid": "87da67985ab02038af2fe85fa1b6f9fc565cb3cf"
   },
   "outputs": [
    {
     "data": {
      "text/plain": [
       "array([[376.15607],\n",
       "       [474.58136],\n",
       "       [593.5919 ],\n",
       "       [697.9731 ],\n",
       "       [777.785  ],\n",
       "       [834.9863 ],\n",
       "       [880.2136 ],\n",
       "       [902.1132 ],\n",
       "       [925.7685 ],\n",
       "       [959.4563 ],\n",
       "       [996.1203 ],\n",
       "       [993.7978 ],\n",
       "       [992.1676 ],\n",
       "       [990.48   ],\n",
       "       [986.74335],\n",
       "       [981.8212 ],\n",
       "       [976.9718 ],\n",
       "       [972.92114],\n",
       "       [970.4578 ],\n",
       "       [967.14215],\n",
       "       [962.8442 ]], dtype=float32)"
      ]
     },
     "execution_count": 19,
     "metadata": {},
     "output_type": "execute_result"
    }
   ],
   "source": [
    "#Inverse transformation\n",
    "predicted_gs_price=sc.inverse_transform(predicted_gs_price)\n",
    "predicted_gs_price"
   ]
  },
  {
   "cell_type": "code",
   "execution_count": 20,
   "metadata": {
    "_uuid": "8959b8ac66f8668ff09ab9838e243edaf4c166a7"
   },
   "outputs": [
    {
     "data": {
      "image/png": "[encoded data removed]",
      "text/plain": [
       "<Figure size 1440x720 with 1 Axes>"
      ]
     },
     "metadata": {},
     "output_type": "display_data"
    }
   ],
   "source": [
    "#plot the original and predicted google stock price\n",
    "plt.plot(real_gs_price,color='r',alpha=0.3,label='Real stock price')\n",
    "plt.plot(predicted_gs_price,color='g',label='Predicted stock price')\n",
    "plt.title('Google Stock Price Prediction')\n",
    "plt.xlabel('Time')\n",
    "plt.ylabel('Google Stock Price')\n",
    "plt.legend()\n",
    "plt.show()"
   ]
  },
  {
   "cell_type": "code",
   "execution_count": 21,
   "metadata": {
    "_uuid": "9a7ccdee9cb997d829f8d0c49b73ee036fa5ddbe"
   },
   "outputs": [
    {
     "data": {
      "text/plain": [
       "array([[937.43],\n",
       "       [934.28],\n",
       "       [943.26],\n",
       "       ...,\n",
       "       [377.63],\n",
       "       [378.63],\n",
       "       [377.11]])"
      ]
     },
     "execution_count": 21,
     "metadata": {},
     "output_type": "execute_result"
    }
   ],
   "source": [
    "#Second approach to predict the stock prices\n",
    "gs_training_set=gs_df_train.iloc[:,4:5].values\n",
    "gs_training_set"
   ]
  },
  {
   "cell_type": "code",
   "execution_count": 22,
   "metadata": {
    "_uuid": "212c9e27dfdffcc5c91766b6ae49459a14535e50"
   },
   "outputs": [
    {
     "name": "stdout",
     "output_type": "stream",
     "text": [
      "(1258, 1)\n"
     ]
    },
    {
     "data": {
      "text/plain": [
       "array([[0.90174464],\n",
       "       [0.89711481],\n",
       "       [0.91031351],\n",
       "       ...,\n",
       "       [0.07895704],\n",
       "       [0.08042683],\n",
       "       [0.07819275]])"
      ]
     },
     "execution_count": 22,
     "metadata": {},
     "output_type": "execute_result"
    }
   ],
   "source": [
    "#Normalization\n",
    "scaler=MinMaxScaler(feature_range=(0,1))\n",
    "train_input=scaler.fit_transform(gs_training_set)\n",
    "print(train_input.shape)\n",
    "train_input"
   ]
  },
  {
   "cell_type": "code",
   "execution_count": 23,
   "metadata": {
    "_uuid": "4da6a52a4dbe815391698055f99dc2629bdd66dc"
   },
   "outputs": [
    {
     "name": "stdout",
     "output_type": "stream",
     "text": [
      "(1248, 10) (1248,)\n"
     ]
    }
   ],
   "source": [
    "#Split the train-test split\n",
    "gs_X_train=[]\n",
    "gs_y_train=[]\n",
    "for i in range(10,1258):\n",
    "    gs_X_train.append(train_input[i-10:i,0])\n",
    "    gs_y_train.append(train_input[i,0])\n",
    "gs_X_train,gs_y_train=np.array(gs_X_train),np.array(gs_y_train)\n",
    "print(gs_X_train.shape,gs_y_train.shape)"
   ]
  },
  {
   "cell_type": "code",
   "execution_count": 24,
   "metadata": {
    "_uuid": "1d9bd8178d352c0c9e39c8c6f64e7da3422e26c5"
   },
   "outputs": [
    {
     "name": "stdout",
     "output_type": "stream",
     "text": [
      "(1248, 10, 1)\n"
     ]
    },
    {
     "data": {
      "text/plain": [
       "array([[[0.90174464],\n",
       "        [0.89711481],\n",
       "        [0.91031351],\n",
       "        ...,\n",
       "        [0.89859929],\n",
       "        [0.90571307],\n",
       "        [0.92086659]],\n",
       "\n",
       "       [[0.89711481],\n",
       "        [0.91031351],\n",
       "        [0.9166189 ],\n",
       "        ...,\n",
       "        [0.90571307],\n",
       "        [0.92086659],\n",
       "        [0.91529609]],\n",
       "\n",
       "       [[0.91031351],\n",
       "        [0.9166189 ],\n",
       "        [0.9166042 ],\n",
       "        ...,\n",
       "        [0.92086659],\n",
       "        [0.91529609],\n",
       "        [0.9103576 ]],\n",
       "\n",
       "       ...,\n",
       "\n",
       "       [[0.07178447],\n",
       "        [0.07673766],\n",
       "        [0.07163749],\n",
       "        ...,\n",
       "        [0.08483619],\n",
       "        [0.08077958],\n",
       "        [0.08430707]],\n",
       "\n",
       "       [[0.07673766],\n",
       "        [0.07163749],\n",
       "        [0.07129944],\n",
       "        ...,\n",
       "        [0.08077958],\n",
       "        [0.08430707],\n",
       "        [0.07895704]],\n",
       "\n",
       "       [[0.07163749],\n",
       "        [0.07129944],\n",
       "        [0.08141158],\n",
       "        ...,\n",
       "        [0.08430707],\n",
       "        [0.07895704],\n",
       "        [0.08042683]]])"
      ]
     },
     "execution_count": 24,
     "metadata": {},
     "output_type": "execute_result"
    }
   ],
   "source": [
    "#Reshape the gs_X_train(model require format)\n",
    "gs_X_train=np.reshape(gs_X_train,(gs_X_train.shape[0],gs_X_train.shape[1],1))\n",
    "print(gs_X_train.shape)\n",
    "gs_X_train\n"
   ]
  },
  {
   "cell_type": "code",
   "execution_count": 25,
   "metadata": {
    "_uuid": "aa0af3ad36cb963a456dbe0cba15f99df2cdeb62"
   },
   "outputs": [
    {
     "data": {
      "text/plain": [
       "<keras.engine.sequential.Sequential at 0x7fdd3c63b668>"
      ]
     },
     "execution_count": 25,
     "metadata": {},
     "output_type": "execute_result"
    }
   ],
   "source": [
    "#LSTM model\n",
    "regressor=Sequential()\n",
    "regressor"
   ]
  },
  {
   "cell_type": "code",
   "execution_count": 26,
   "metadata": {
    "_uuid": "cfddee48ac1823f7e88afe25581f86cbb469adb7"
   },
   "outputs": [
    {
     "name": "stdout",
     "output_type": "stream",
     "text": [
      "Epoch 1/50\n",
      "1248/1248 [==============================] - 1s 927us/step - loss: 0.0184\n",
      "Epoch 2/50\n",
      "1248/1248 [==============================] - 0s 306us/step - loss: 0.0037\n",
      "Epoch 3/50\n",
      "1248/1248 [==============================] - 0s 298us/step - loss: 0.0028\n",
      "Epoch 4/50\n",
      "1248/1248 [==============================] - 0s 297us/step - loss: 0.0025\n",
      "Epoch 5/50\n",
      "1248/1248 [==============================] - 0s 300us/step - loss: 0.0022\n",
      "Epoch 6/50\n",
      "1248/1248 [==============================] - 0s 312us/step - loss: 0.0022\n",
      "Epoch 7/50\n",
      "1248/1248 [==============================] - 0s 315us/step - loss: 0.0018\n",
      "Epoch 8/50\n",
      "1248/1248 [==============================] - 0s 301us/step - loss: 0.0020\n",
      "Epoch 9/50\n",
      "1248/1248 [==============================] - 0s 305us/step - loss: 0.0019\n",
      "Epoch 10/50\n",
      "1248/1248 [==============================] - 0s 304us/step - loss: 0.0015\n",
      "Epoch 11/50\n",
      "1248/1248 [==============================] - 0s 305us/step - loss: 0.0015\n",
      "Epoch 12/50\n",
      "1248/1248 [==============================] - 0s 303us/step - loss: 0.0018\n",
      "Epoch 13/50\n",
      "1248/1248 [==============================] - 0s 304us/step - loss: 0.0015\n",
      "Epoch 14/50\n",
      "1248/1248 [==============================] - 0s 307us/step - loss: 0.0015\n",
      "Epoch 15/50\n",
      "1248/1248 [==============================] - 0s 304us/step - loss: 0.0012\n",
      "Epoch 16/50\n",
      "1248/1248 [==============================] - 0s 301us/step - loss: 0.0015\n",
      "Epoch 17/50\n",
      "1248/1248 [==============================] - 0s 306us/step - loss: 0.0014\n",
      "Epoch 18/50\n",
      "1248/1248 [==============================] - 0s 306us/step - loss: 0.0012\n",
      "Epoch 19/50\n",
      "1248/1248 [==============================] - 0s 300us/step - loss: 0.0012\n",
      "Epoch 20/50\n",
      "1248/1248 [==============================] - 0s 300us/step - loss: 0.0013\n",
      "Epoch 21/50\n",
      "1248/1248 [==============================] - 0s 301us/step - loss: 0.0012\n",
      "Epoch 22/50\n",
      "1248/1248 [==============================] - 0s 310us/step - loss: 0.0011\n",
      "Epoch 23/50\n",
      "1248/1248 [==============================] - 0s 303us/step - loss: 0.0011\n",
      "Epoch 24/50\n",
      "1248/1248 [==============================] - 0s 305us/step - loss: 0.0012\n",
      "Epoch 25/50\n",
      "1248/1248 [==============================] - 0s 306us/step - loss: 0.0011\n",
      "Epoch 26/50\n",
      "1248/1248 [==============================] - 0s 304us/step - loss: 0.0011\n",
      "Epoch 27/50\n",
      "1248/1248 [==============================] - 0s 307us/step - loss: 0.0010\n",
      "Epoch 28/50\n",
      "1248/1248 [==============================] - 0s 315us/step - loss: 0.0011\n",
      "Epoch 29/50\n",
      "1248/1248 [==============================] - 0s 315us/step - loss: 9.6373e-04\n",
      "Epoch 30/50\n",
      "1248/1248 [==============================] - 0s 312us/step - loss: 0.0010\n",
      "Epoch 31/50\n",
      "1248/1248 [==============================] - 0s 308us/step - loss: 8.3392e-04\n",
      "Epoch 32/50\n",
      "1248/1248 [==============================] - 0s 301us/step - loss: 8.8097e-04\n",
      "Epoch 33/50\n",
      "1248/1248 [==============================] - 0s 304us/step - loss: 9.2709e-04\n",
      "Epoch 34/50\n",
      "1248/1248 [==============================] - 0s 307us/step - loss: 8.6330e-04\n",
      "Epoch 35/50\n",
      "1248/1248 [==============================] - 0s 306us/step - loss: 9.4246e-04\n",
      "Epoch 36/50\n",
      "1248/1248 [==============================] - 0s 303us/step - loss: 8.8951e-04\n",
      "Epoch 37/50\n",
      "1248/1248 [==============================] - 0s 313us/step - loss: 8.4605e-04\n",
      "Epoch 38/50\n",
      "1248/1248 [==============================] - 0s 326us/step - loss: 8.5888e-04\n",
      "Epoch 39/50\n",
      "1248/1248 [==============================] - 0s 313us/step - loss: 8.3765e-04\n",
      "Epoch 40/50\n",
      "1248/1248 [==============================] - 0s 306us/step - loss: 8.2391e-04\n",
      "Epoch 41/50\n",
      "1248/1248 [==============================] - 0s 298us/step - loss: 7.8767e-04\n",
      "Epoch 42/50\n",
      "1248/1248 [==============================] - 0s 300us/step - loss: 8.2161e-04\n",
      "Epoch 43/50\n",
      "1248/1248 [==============================] - 0s 298us/step - loss: 8.2531e-04\n",
      "Epoch 44/50\n",
      "1248/1248 [==============================] - 0s 302us/step - loss: 7.2880e-04\n",
      "Epoch 45/50\n",
      "1248/1248 [==============================] - 0s 305us/step - loss: 7.5231e-04\n",
      "Epoch 46/50\n",
      "1248/1248 [==============================] - 0s 299us/step - loss: 7.5666e-04\n",
      "Epoch 47/50\n",
      "1248/1248 [==============================] - 0s 303us/step - loss: 7.6752e-04\n",
      "Epoch 48/50\n",
      "1248/1248 [==============================] - 0s 313us/step - loss: 7.7286e-04\n",
      "Epoch 49/50\n",
      "1248/1248 [==============================] - 0s 316us/step - loss: 6.2496e-04\n",
      "Epoch 50/50\n",
      "1248/1248 [==============================] - 0s 307us/step - loss: 7.8300e-04\n"
     ]
    },
    {
     "data": {
      "text/plain": [
       "<keras.callbacks.History at 0x7fdd2af6ff60>"
      ]
     },
     "execution_count": 26,
     "metadata": {},
     "output_type": "execute_result"
    }
   ],
   "source": [
    "regressor.add(LSTM(units=100,return_sequences=True,input_shape=(10,1)))\n",
    "regressor.add(Dropout(0.2))\n",
    "#regressor.add(LSTM(units=100,return_sequences=True))\n",
    "#regressor.add(Dropout(0.2))\n",
    "regressor.add(Flatten(data_format=None))\n",
    "regressor.add(Dense(units=1))\n",
    "regressor.compile(optimizer=\"RMSprop\",loss='mean_squared_error')\n",
    "\n",
    "regressor.fit(gs_X_train,gs_y_train,epochs=50,batch_size=32)"
   ]
  },
  {
   "cell_type": "code",
   "execution_count": 27,
   "metadata": {
    "_uuid": "d8d1be097dff2b3155c5b16b36cab67e5965a4ae"
   },
   "outputs": [
    {
     "name": "stdout",
     "output_type": "stream",
     "text": [
      "(21, 1)\n"
     ]
    },
    {
     "data": {
      "text/plain": [
       "array([[ 991.46],\n",
       "       [ 988.49],\n",
       "       [ 985.54],\n",
       "       [1005.07],\n",
       "       [1001.84],\n",
       "       [1012.74],\n",
       "       [1011.  ],\n",
       "       [1009.35],\n",
       "       [1007.87],\n",
       "       [1005.65],\n",
       "       [1005.65],\n",
       "       [ 987.8 ],\n",
       "       [ 992.31],\n",
       "       [ 993.64],\n",
       "       [ 985.19],\n",
       "       [ 966.78],\n",
       "       [ 972.08],\n",
       "       [ 967.47],\n",
       "       [ 973.72],\n",
       "       [ 964.81],\n",
       "       [ 959.9 ]])"
      ]
     },
     "execution_count": 27,
     "metadata": {},
     "output_type": "execute_result"
    }
   ],
   "source": [
    "#Testing the model\n",
    "real_gstock_price=gs_df_test.iloc[:,4:5].values\n",
    "print(real_gstock_price.shape)\n",
    "real_gstock_price"
   ]
  },
  {
   "cell_type": "code",
   "execution_count": 28,
   "metadata": {
    "_uuid": "7a9bd5f606e558f9196e81ee5b516ee0e734fdde"
   },
   "outputs": [
    {
     "data": {
      "text/plain": [
       "0        937.43\n",
       "1        934.28\n",
       "2        943.26\n",
       "3        947.55\n",
       "4        947.54\n",
       "5        936.86\n",
       "6        929.75\n",
       "7        935.29\n",
       "8        940.13\n",
       "9        950.44\n",
       "10       946.65\n",
       "11       943.29\n",
       "12       941.41\n",
       "13       949.89\n",
       "14       942.02\n",
       "15       941.48\n",
       "16       951.99\n",
       "17       955.24\n",
       "18       943.63\n",
       "19       935.75\n",
       "20       928.13\n",
       "21       930.50\n",
       "22       936.89\n",
       "23       942.58\n",
       "24       940.40\n",
       "25       920.87\n",
       "26       926.18\n",
       "27       927.66\n",
       "28       944.27\n",
       "29       938.08\n",
       "         ...   \n",
       "1249     379.30\n",
       "1250     384.21\n",
       "1251     384.41\n",
       "1252     381.63\n",
       "1253     378.87\n",
       "1254     381.27\n",
       "1255     377.63\n",
       "1256     378.63\n",
       "1257     377.11\n",
       "0        991.46\n",
       "1        988.49\n",
       "2        985.54\n",
       "3       1005.07\n",
       "4       1001.84\n",
       "5       1012.74\n",
       "6       1011.00\n",
       "7       1009.35\n",
       "8       1007.87\n",
       "9       1005.65\n",
       "10      1005.65\n",
       "11       987.80\n",
       "12       992.31\n",
       "13       993.64\n",
       "14       985.19\n",
       "15       966.78\n",
       "16       972.08\n",
       "17       967.47\n",
       "18       973.72\n",
       "19       964.81\n",
       "20       959.90\n",
       "Name: Close, Length: 1279, dtype: float64"
      ]
     },
     "execution_count": 28,
     "metadata": {},
     "output_type": "execute_result"
    }
   ],
   "source": [
    "input_total=pd.concat([gs_df_train['Close'],gs_df_test['Close']],axis=0)\n",
    "input_total"
   ]
  },
  {
   "cell_type": "code",
   "execution_count": 29,
   "metadata": {
    "_uuid": "088f9f61bf7c53dd6142b7491c8573e9acbcc23a"
   },
   "outputs": [
    {
     "name": "stdout",
     "output_type": "stream",
     "text": [
      "(31,)\n"
     ]
    },
    {
     "data": {
      "text/plain": [
       "array([ 372.42,  379.3 ,  384.21,  384.41,  381.63,  378.87,  381.27,\n",
       "        377.63,  378.63,  377.11,  991.46,  988.49,  985.54, 1005.07,\n",
       "       1001.84, 1012.74, 1011.  , 1009.35, 1007.87, 1005.65, 1005.65,\n",
       "        987.8 ,  992.31,  993.64,  985.19,  966.78,  972.08,  967.47,\n",
       "        973.72,  964.81,  959.9 ])"
      ]
     },
     "execution_count": 29,
     "metadata": {},
     "output_type": "execute_result"
    }
   ],
   "source": [
    "input_test=input_total[len(input_total)-len(gs_df_test)-10:].values\n",
    "print(input_test.shape)\n",
    "input_test"
   ]
  },
  {
   "cell_type": "code",
   "execution_count": 30,
   "metadata": {
    "_uuid": "47189340caba154c703372c7d6f4b576ed5f6fa1"
   },
   "outputs": [
    {
     "data": {
      "text/plain": [
       "array([[ 372.42],\n",
       "       [ 379.3 ],\n",
       "       [ 384.21],\n",
       "       [ 384.41],\n",
       "       [ 381.63],\n",
       "       [ 378.87],\n",
       "       [ 381.27],\n",
       "       [ 377.63],\n",
       "       [ 378.63],\n",
       "       [ 377.11],\n",
       "       [ 991.46],\n",
       "       [ 988.49],\n",
       "       [ 985.54],\n",
       "       [1005.07],\n",
       "       [1001.84],\n",
       "       [1012.74],\n",
       "       [1011.  ],\n",
       "       [1009.35],\n",
       "       [1007.87],\n",
       "       [1005.65],\n",
       "       [1005.65],\n",
       "       [ 987.8 ],\n",
       "       [ 992.31],\n",
       "       [ 993.64],\n",
       "       [ 985.19],\n",
       "       [ 966.78],\n",
       "       [ 972.08],\n",
       "       [ 967.47],\n",
       "       [ 973.72],\n",
       "       [ 964.81],\n",
       "       [ 959.9 ]])"
      ]
     },
     "execution_count": 30,
     "metadata": {},
     "output_type": "execute_result"
    }
   ],
   "source": [
    "#reshaping the input_test\n",
    "input_test=input_test.reshape(-1,1)\n",
    "input_test"
   ]
  },
  {
   "cell_type": "code",
   "execution_count": 31,
   "metadata": {
    "_uuid": "da2aff5a67045896e5b00446149a4451ad69e59f"
   },
   "outputs": [
    {
     "name": "stdout",
     "output_type": "stream",
     "text": [
      "(31, 1)\n"
     ]
    },
    {
     "data": {
      "text/plain": [
       "array([[0.07129944],\n",
       "       [0.08141158],\n",
       "       [0.08862825],\n",
       "       [0.0889222 ],\n",
       "       [0.08483619],\n",
       "       [0.08077958],\n",
       "       [0.08430707],\n",
       "       [0.07895704],\n",
       "       [0.08042683],\n",
       "       [0.07819275],\n",
       "       [0.98115731],\n",
       "       [0.97679204],\n",
       "       [0.97245616],\n",
       "       [1.00116113],\n",
       "       [0.99641372],\n",
       "       [1.01243441],\n",
       "       [1.00987698],\n",
       "       [1.00745183],\n",
       "       [1.00527654],\n",
       "       [1.00201361],\n",
       "       [1.00201361],\n",
       "       [0.97577789],\n",
       "       [0.98240663],\n",
       "       [0.98436145],\n",
       "       [0.97194174],\n",
       "       [0.94488293],\n",
       "       [0.95267281],\n",
       "       [0.94589709],\n",
       "       [0.95508326],\n",
       "       [0.94198745],\n",
       "       [0.93477079]])"
      ]
     },
     "execution_count": 31,
     "metadata": {},
     "output_type": "execute_result"
    }
   ],
   "source": [
    "#Normalization\n",
    "input_test=scaler.transform(input_test)\n",
    "print(input_test.shape)\n",
    "input_test"
   ]
  },
  {
   "cell_type": "code",
   "execution_count": 32,
   "metadata": {
    "_uuid": "4f958655396798af4fdd990426865fb5bc8b6e96"
   },
   "outputs": [
    {
     "name": "stdout",
     "output_type": "stream",
     "text": [
      "(21, 10)\n"
     ]
    },
    {
     "data": {
      "text/plain": [
       "array([[0.07129944, 0.08141158, 0.08862825, 0.0889222 , 0.08483619,\n",
       "        0.08077958, 0.08430707, 0.07895704, 0.08042683, 0.07819275],\n",
       "       [0.08141158, 0.08862825, 0.0889222 , 0.08483619, 0.08077958,\n",
       "        0.08430707, 0.07895704, 0.08042683, 0.07819275, 0.98115731],\n",
       "       [0.08862825, 0.0889222 , 0.08483619, 0.08077958, 0.08430707,\n",
       "        0.07895704, 0.08042683, 0.07819275, 0.98115731, 0.97679204],\n",
       "       [0.0889222 , 0.08483619, 0.08077958, 0.08430707, 0.07895704,\n",
       "        0.08042683, 0.07819275, 0.98115731, 0.97679204, 0.97245616],\n",
       "       [0.08483619, 0.08077958, 0.08430707, 0.07895704, 0.08042683,\n",
       "        0.07819275, 0.98115731, 0.97679204, 0.97245616, 1.00116113],\n",
       "       [0.08077958, 0.08430707, 0.07895704, 0.08042683, 0.07819275,\n",
       "        0.98115731, 0.97679204, 0.97245616, 1.00116113, 0.99641372],\n",
       "       [0.08430707, 0.07895704, 0.08042683, 0.07819275, 0.98115731,\n",
       "        0.97679204, 0.97245616, 1.00116113, 0.99641372, 1.01243441],\n",
       "       [0.07895704, 0.08042683, 0.07819275, 0.98115731, 0.97679204,\n",
       "        0.97245616, 1.00116113, 0.99641372, 1.01243441, 1.00987698],\n",
       "       [0.08042683, 0.07819275, 0.98115731, 0.97679204, 0.97245616,\n",
       "        1.00116113, 0.99641372, 1.01243441, 1.00987698, 1.00745183],\n",
       "       [0.07819275, 0.98115731, 0.97679204, 0.97245616, 1.00116113,\n",
       "        0.99641372, 1.01243441, 1.00987698, 1.00745183, 1.00527654],\n",
       "       [0.98115731, 0.97679204, 0.97245616, 1.00116113, 0.99641372,\n",
       "        1.01243441, 1.00987698, 1.00745183, 1.00527654, 1.00201361],\n",
       "       [0.97679204, 0.97245616, 1.00116113, 0.99641372, 1.01243441,\n",
       "        1.00987698, 1.00745183, 1.00527654, 1.00201361, 1.00201361],\n",
       "       [0.97245616, 1.00116113, 0.99641372, 1.01243441, 1.00987698,\n",
       "        1.00745183, 1.00527654, 1.00201361, 1.00201361, 0.97577789],\n",
       "       [1.00116113, 0.99641372, 1.01243441, 1.00987698, 1.00745183,\n",
       "        1.00527654, 1.00201361, 1.00201361, 0.97577789, 0.98240663],\n",
       "       [0.99641372, 1.01243441, 1.00987698, 1.00745183, 1.00527654,\n",
       "        1.00201361, 1.00201361, 0.97577789, 0.98240663, 0.98436145],\n",
       "       [1.01243441, 1.00987698, 1.00745183, 1.00527654, 1.00201361,\n",
       "        1.00201361, 0.97577789, 0.98240663, 0.98436145, 0.97194174],\n",
       "       [1.00987698, 1.00745183, 1.00527654, 1.00201361, 1.00201361,\n",
       "        0.97577789, 0.98240663, 0.98436145, 0.97194174, 0.94488293],\n",
       "       [1.00745183, 1.00527654, 1.00201361, 1.00201361, 0.97577789,\n",
       "        0.98240663, 0.98436145, 0.97194174, 0.94488293, 0.95267281],\n",
       "       [1.00527654, 1.00201361, 1.00201361, 0.97577789, 0.98240663,\n",
       "        0.98436145, 0.97194174, 0.94488293, 0.95267281, 0.94589709],\n",
       "       [1.00201361, 1.00201361, 0.97577789, 0.98240663, 0.98436145,\n",
       "        0.97194174, 0.94488293, 0.95267281, 0.94589709, 0.95508326],\n",
       "       [1.00201361, 0.97577789, 0.98240663, 0.98436145, 0.97194174,\n",
       "        0.94488293, 0.95267281, 0.94589709, 0.95508326, 0.94198745]])"
      ]
     },
     "execution_count": 32,
     "metadata": {},
     "output_type": "execute_result"
    }
   ],
   "source": [
    "#Setting the X_test\n",
    "gs_X_test=[]\n",
    "for i in range(10,31):\n",
    "    gs_X_test.append(input_test[i-10:i,0])\n",
    "gs_X_test=np.array(gs_X_test)\n",
    "print(gs_X_test.shape)\n",
    "gs_X_test"
   ]
  },
  {
   "cell_type": "code",
   "execution_count": 33,
   "metadata": {
    "_uuid": "e5fc343c755d03d62467147f2cf83646580f0799"
   },
   "outputs": [
    {
     "name": "stdout",
     "output_type": "stream",
     "text": [
      "(21, 10, 1)\n"
     ]
    },
    {
     "data": {
      "text/plain": [
       "array([[[0.07129944],\n",
       "        [0.08141158],\n",
       "        [0.08862825],\n",
       "        [0.0889222 ],\n",
       "        [0.08483619],\n",
       "        [0.08077958],\n",
       "        [0.08430707],\n",
       "        [0.07895704],\n",
       "        [0.08042683],\n",
       "        [0.07819275]],\n",
       "\n",
       "       [[0.08141158],\n",
       "        [0.08862825],\n",
       "        [0.0889222 ],\n",
       "        [0.08483619],\n",
       "        [0.08077958],\n",
       "        [0.08430707],\n",
       "        [0.07895704],\n",
       "        [0.08042683],\n",
       "        [0.07819275],\n",
       "        [0.98115731]],\n",
       "\n",
       "       [[0.08862825],\n",
       "        [0.0889222 ],\n",
       "        [0.08483619],\n",
       "        [0.08077958],\n",
       "        [0.08430707],\n",
       "        [0.07895704],\n",
       "        [0.08042683],\n",
       "        [0.07819275],\n",
       "        [0.98115731],\n",
       "        [0.97679204]],\n",
       "\n",
       "       [[0.0889222 ],\n",
       "        [0.08483619],\n",
       "        [0.08077958],\n",
       "        [0.08430707],\n",
       "        [0.07895704],\n",
       "        [0.08042683],\n",
       "        [0.07819275],\n",
       "        [0.98115731],\n",
       "        [0.97679204],\n",
       "        [0.97245616]],\n",
       "\n",
       "       [[0.08483619],\n",
       "        [0.08077958],\n",
       "        [0.08430707],\n",
       "        [0.07895704],\n",
       "        [0.08042683],\n",
       "        [0.07819275],\n",
       "        [0.98115731],\n",
       "        [0.97679204],\n",
       "        [0.97245616],\n",
       "        [1.00116113]],\n",
       "\n",
       "       [[0.08077958],\n",
       "        [0.08430707],\n",
       "        [0.07895704],\n",
       "        [0.08042683],\n",
       "        [0.07819275],\n",
       "        [0.98115731],\n",
       "        [0.97679204],\n",
       "        [0.97245616],\n",
       "        [1.00116113],\n",
       "        [0.99641372]],\n",
       "\n",
       "       [[0.08430707],\n",
       "        [0.07895704],\n",
       "        [0.08042683],\n",
       "        [0.07819275],\n",
       "        [0.98115731],\n",
       "        [0.97679204],\n",
       "        [0.97245616],\n",
       "        [1.00116113],\n",
       "        [0.99641372],\n",
       "        [1.01243441]],\n",
       "\n",
       "       [[0.07895704],\n",
       "        [0.08042683],\n",
       "        [0.07819275],\n",
       "        [0.98115731],\n",
       "        [0.97679204],\n",
       "        [0.97245616],\n",
       "        [1.00116113],\n",
       "        [0.99641372],\n",
       "        [1.01243441],\n",
       "        [1.00987698]],\n",
       "\n",
       "       [[0.08042683],\n",
       "        [0.07819275],\n",
       "        [0.98115731],\n",
       "        [0.97679204],\n",
       "        [0.97245616],\n",
       "        [1.00116113],\n",
       "        [0.99641372],\n",
       "        [1.01243441],\n",
       "        [1.00987698],\n",
       "        [1.00745183]],\n",
       "\n",
       "       [[0.07819275],\n",
       "        [0.98115731],\n",
       "        [0.97679204],\n",
       "        [0.97245616],\n",
       "        [1.00116113],\n",
       "        [0.99641372],\n",
       "        [1.01243441],\n",
       "        [1.00987698],\n",
       "        [1.00745183],\n",
       "        [1.00527654]],\n",
       "\n",
       "       [[0.98115731],\n",
       "        [0.97679204],\n",
       "        [0.97245616],\n",
       "        [1.00116113],\n",
       "        [0.99641372],\n",
       "        [1.01243441],\n",
       "        [1.00987698],\n",
       "        [1.00745183],\n",
       "        [1.00527654],\n",
       "        [1.00201361]],\n",
       "\n",
       "       [[0.97679204],\n",
       "        [0.97245616],\n",
       "        [1.00116113],\n",
       "        [0.99641372],\n",
       "        [1.01243441],\n",
       "        [1.00987698],\n",
       "        [1.00745183],\n",
       "        [1.00527654],\n",
       "        [1.00201361],\n",
       "        [1.00201361]],\n",
       "\n",
       "       [[0.97245616],\n",
       "        [1.00116113],\n",
       "        [0.99641372],\n",
       "        [1.01243441],\n",
       "        [1.00987698],\n",
       "        [1.00745183],\n",
       "        [1.00527654],\n",
       "        [1.00201361],\n",
       "        [1.00201361],\n",
       "        [0.97577789]],\n",
       "\n",
       "       [[1.00116113],\n",
       "        [0.99641372],\n",
       "        [1.01243441],\n",
       "        [1.00987698],\n",
       "        [1.00745183],\n",
       "        [1.00527654],\n",
       "        [1.00201361],\n",
       "        [1.00201361],\n",
       "        [0.97577789],\n",
       "        [0.98240663]],\n",
       "\n",
       "       [[0.99641372],\n",
       "        [1.01243441],\n",
       "        [1.00987698],\n",
       "        [1.00745183],\n",
       "        [1.00527654],\n",
       "        [1.00201361],\n",
       "        [1.00201361],\n",
       "        [0.97577789],\n",
       "        [0.98240663],\n",
       "        [0.98436145]],\n",
       "\n",
       "       [[1.01243441],\n",
       "        [1.00987698],\n",
       "        [1.00745183],\n",
       "        [1.00527654],\n",
       "        [1.00201361],\n",
       "        [1.00201361],\n",
       "        [0.97577789],\n",
       "        [0.98240663],\n",
       "        [0.98436145],\n",
       "        [0.97194174]],\n",
       "\n",
       "       [[1.00987698],\n",
       "        [1.00745183],\n",
       "        [1.00527654],\n",
       "        [1.00201361],\n",
       "        [1.00201361],\n",
       "        [0.97577789],\n",
       "        [0.98240663],\n",
       "        [0.98436145],\n",
       "        [0.97194174],\n",
       "        [0.94488293]],\n",
       "\n",
       "       [[1.00745183],\n",
       "        [1.00527654],\n",
       "        [1.00201361],\n",
       "        [1.00201361],\n",
       "        [0.97577789],\n",
       "        [0.98240663],\n",
       "        [0.98436145],\n",
       "        [0.97194174],\n",
       "        [0.94488293],\n",
       "        [0.95267281]],\n",
       "\n",
       "       [[1.00527654],\n",
       "        [1.00201361],\n",
       "        [1.00201361],\n",
       "        [0.97577789],\n",
       "        [0.98240663],\n",
       "        [0.98436145],\n",
       "        [0.97194174],\n",
       "        [0.94488293],\n",
       "        [0.95267281],\n",
       "        [0.94589709]],\n",
       "\n",
       "       [[1.00201361],\n",
       "        [1.00201361],\n",
       "        [0.97577789],\n",
       "        [0.98240663],\n",
       "        [0.98436145],\n",
       "        [0.97194174],\n",
       "        [0.94488293],\n",
       "        [0.95267281],\n",
       "        [0.94589709],\n",
       "        [0.95508326]],\n",
       "\n",
       "       [[1.00201361],\n",
       "        [0.97577789],\n",
       "        [0.98240663],\n",
       "        [0.98436145],\n",
       "        [0.97194174],\n",
       "        [0.94488293],\n",
       "        [0.95267281],\n",
       "        [0.94589709],\n",
       "        [0.95508326],\n",
       "        [0.94198745]]])"
      ]
     },
     "execution_count": 33,
     "metadata": {},
     "output_type": "execute_result"
    }
   ],
   "source": [
    "#Reshaping X_test(model require format)\n",
    "gs_X_test=np.reshape(gs_X_test,(gs_X_test.shape[0],gs_X_test.shape[1],1))\n",
    "print(gs_X_test.shape)\n",
    "gs_X_test\n"
   ]
  },
  {
   "cell_type": "code",
   "execution_count": 34,
   "metadata": {
    "_uuid": "6d77b9d88a1f6efb98a642eab7d06430062a381d"
   },
   "outputs": [
    {
     "data": {
      "text/plain": [
       "array([[0.07573071],\n",
       "       [0.29733974],\n",
       "       [0.56422794],\n",
       "       [0.7397797 ],\n",
       "       [0.82356894],\n",
       "       [0.83196807],\n",
       "       [0.8193021 ],\n",
       "       [0.8238697 ],\n",
       "       [0.85129666],\n",
       "       [0.9043385 ],\n",
       "       [0.97117364],\n",
       "       [0.9694388 ],\n",
       "       [0.96329784],\n",
       "       [0.95933867],\n",
       "       [0.9572356 ],\n",
       "       [0.95474195],\n",
       "       [0.94479346],\n",
       "       [0.93672144],\n",
       "       [0.93052137],\n",
       "       [0.928854  ],\n",
       "       [0.9264326 ]], dtype=float32)"
      ]
     },
     "execution_count": 34,
     "metadata": {},
     "output_type": "execute_result"
    }
   ],
   "source": [
    "#Predicted the stock price\n",
    "predicted_gstock_price=regressor.predict(gs_X_test)\n",
    "predicted_gstock_price"
   ]
  },
  {
   "cell_type": "code",
   "execution_count": 35,
   "metadata": {
    "_uuid": "436ea8552f4de3fae46256abd4fa210d42a81a69"
   },
   "outputs": [
    {
     "data": {
      "text/plain": [
       "array([[375.4349 ],\n",
       "       [526.211  ],\n",
       "       [707.79376],\n",
       "       [827.23395],\n",
       "       [884.24164],\n",
       "       [889.9561 ],\n",
       "       [881.33856],\n",
       "       [884.4462 ],\n",
       "       [903.10675],\n",
       "       [939.19476],\n",
       "       [984.6674 ],\n",
       "       [983.4871 ],\n",
       "       [979.30896],\n",
       "       [976.6153 ],\n",
       "       [975.1844 ],\n",
       "       [973.4878 ],\n",
       "       [966.7192 ],\n",
       "       [961.2272 ],\n",
       "       [957.00885],\n",
       "       [955.8744 ],\n",
       "       [954.227  ]], dtype=float32)"
      ]
     },
     "execution_count": 35,
     "metadata": {},
     "output_type": "execute_result"
    }
   ],
   "source": [
    "#Inverse transformation\n",
    "predicted_gstock_price=scaler.inverse_transform(predicted_gstock_price)\n",
    "predicted_gstock_price"
   ]
  },
  {
   "cell_type": "code",
   "execution_count": 36,
   "metadata": {
    "_uuid": "9eb1b67ebb942800400201eb3e44e4ba3c64bbf5"
   },
   "outputs": [
    {
     "data": {
      "image/png": "[encoded data removed]",
      "text/plain": [
       "<Figure size 1440x720 with 1 Axes>"
      ]
     },
     "metadata": {},
     "output_type": "display_data"
    }
   ],
   "source": [
    "#plot the original and predicted google stock price\n",
    "plt.plot(real_gstock_price,color='r',alpha=0.3,label='Real stock price')\n",
    "plt.plot(predicted_gstock_price,color='g',label='Predicted stock price')\n",
    "plt.title('Google Stock Price Prediction')\n",
    "plt.xlabel('Time')\n",
    "plt.ylabel('Google Stock Price')\n",
    "plt.legend()\n",
    "plt.show()"
   ]
  }
 ],
 "metadata": {
  "kernelspec": {
   "display_name": "Python 3",
   "language": "python",
   "name": "python3"
  },
  "language_info": {
   "codemirror_mode": {
    "name": "ipython",
    "version": 3
   },
   "file_extension": ".py",
   "mimetype": "text/x-python",
   "name": "python",
   "nbconvert_exporter": "python",
   "pygments_lexer": "ipython3",
   "version": "3.6.6"
  }
 },
 "nbformat": 4,
 "nbformat_minor": 1
}
