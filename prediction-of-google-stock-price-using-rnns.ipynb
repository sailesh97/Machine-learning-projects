{
 "cells": [
  {
   "cell_type": "markdown",
   "metadata": {
    "_cell_guid": "b1076dfc-b9ad-4769-8c92-a6c4dae69d19",
    "_uuid": "8f2839f25d086af736a60e9eeb907d3b93b6e0e5"
   },
   "source": [
    "Prediction of Google Stock Price using RNNs"
   ]
  },
  {
   "cell_type": "markdown",
   "metadata": {
    "_uuid": "254a4a3c1dd4f8dc833fcadc62256289a2cda364"
   },
   "source": [
    "In this, I'm predicting the google stock prices in two approaches."
   ]
  },
  {
   "cell_type": "markdown",
   "metadata": {
    "_uuid": "e512e017fe2bfbf93fc8e1b07a02f3382e448680"
   },
   "source": [
    "First approach to predict stock prices"
   ]
  },
  {
   "cell_type": "code",
   "execution_count": 1,
   "metadata": {
    "_cell_guid": "79c7e3d0-c299-4dcb-8224-4455121ee9b0",
    "_uuid": "d629ff2d2480ee46fbb7e2d37f6b5fab8052498a"
   },
   "outputs": [
    {
     "name": "stdout",
     "output_type": "stream",
     "text": [
      "['Google_Stock_Price_Test.csv', 'Google_Stock_Price_Train.csv']\n"
     ]
    }
   ],
   "source": [
    "import numpy as np\n",
    "import pandas as pd\n",
    "import matplotlib.pyplot as plt\n",
    "import seaborn as sns\n",
    "import warnings\n",
    "warnings.filterwarnings('ignore')\n",
    "\n",
    "import os\n",
    "print(os.listdir(\"../input\"))\n",
    "\n",
    "\n",
    "sns.set_style('whitegrid')\n",
    "\n",
    "params={'legend.fontsize':'x-large',\n",
    "       'figure.figsize':(20,10),\n",
    "       'axes.labelsize':'x-large',\n",
    "       'axes.titlesize':'x-large',\n",
    "       'xtick.labelsize':'x-large',\n",
    "       'ytick.labelsize':'x-large'}\n",
    "plt.rcParams.update(params)"
   ]
  },
  {
   "cell_type": "markdown",
   "metadata": {
    "_uuid": "2f1009288f3075ab91b03e5461ef140c5eb91a48"
   },
   "source": [
    "Import the train data"
   ]
  },
  {
   "cell_type": "code",
   "execution_count": 2,
   "metadata": {
    "_uuid": "f2310e17edd0ce5c55f16fcde81e1cdcc7c12ac3"
   },
   "outputs": [
    {
     "name": "stdout",
     "output_type": "stream",
     "text": [
      "(1258, 6)\n"
     ]
    },
    {
     "data": {
      "text/html": [
       "<div>\n",
       "<style scoped>\n",
       "    .dataframe tbody tr th:only-of-type {\n",
       "        vertical-align: middle;\n",
       "    }\n",
       "\n",
       "    .dataframe tbody tr th {\n",
       "        vertical-align: top;\n",
       "    }\n",
       "\n",
       "    .dataframe thead th {\n",
       "        text-align: right;\n",
       "    }\n",
       "</style>\n",
       "<table border=\"1\" class=\"dataframe\">\n",
       "  <thead>\n",
       "    <tr style=\"text-align: right;\">\n",
       "      <th></th>\n",
       "      <th>Date</th>\n",
       "      <th>Open</th>\n",
       "      <th>High</th>\n",
       "      <th>Low</th>\n",
       "      <th>Close</th>\n",
       "      <th>Volume</th>\n",
       "    </tr>\n",
       "  </thead>\n",
       "  <tbody>\n",
       "    <tr>\n",
       "      <th>0</th>\n",
       "      <td>26-Sep-17</td>\n",
       "      <td>936.69</td>\n",
       "      <td>944.08</td>\n",
       "      <td>935.12</td>\n",
       "      <td>937.43</td>\n",
       "      <td>1672749</td>\n",
       "    </tr>\n",
       "    <tr>\n",
       "      <th>1</th>\n",
       "      <td>25-Sep-17</td>\n",
       "      <td>939.45</td>\n",
       "      <td>939.75</td>\n",
       "      <td>924.51</td>\n",
       "      <td>934.28</td>\n",
       "      <td>1873375</td>\n",
       "    </tr>\n",
       "    <tr>\n",
       "      <th>2</th>\n",
       "      <td>22-Sep-17</td>\n",
       "      <td>942.77</td>\n",
       "      <td>950.00</td>\n",
       "      <td>940.84</td>\n",
       "      <td>943.26</td>\n",
       "      <td>1074806</td>\n",
       "    </tr>\n",
       "    <tr>\n",
       "      <th>3</th>\n",
       "      <td>21-Sep-17</td>\n",
       "      <td>948.13</td>\n",
       "      <td>952.80</td>\n",
       "      <td>939.38</td>\n",
       "      <td>947.55</td>\n",
       "      <td>1370685</td>\n",
       "    </tr>\n",
       "    <tr>\n",
       "      <th>4</th>\n",
       "      <td>20-Sep-17</td>\n",
       "      <td>937.73</td>\n",
       "      <td>950.00</td>\n",
       "      <td>937.50</td>\n",
       "      <td>947.54</td>\n",
       "      <td>2004018</td>\n",
       "    </tr>\n",
       "  </tbody>\n",
       "</table>\n",
       "</div>"
      ],
      "text/plain": [
       "        Date    Open    High     Low   Close   Volume\n",
       "0  26-Sep-17  936.69  944.08  935.12  937.43  1672749\n",
       "1  25-Sep-17  939.45  939.75  924.51  934.28  1873375\n",
       "2  22-Sep-17  942.77  950.00  940.84  943.26  1074806\n",
       "3  21-Sep-17  948.13  952.80  939.38  947.55  1370685\n",
       "4  20-Sep-17  937.73  950.00  937.50  947.54  2004018"
      ]
     },
     "execution_count": 2,
     "metadata": {},
     "output_type": "execute_result"
    }
   ],
   "source": [
    "gs_df_train=pd.read_csv('../input/Google_Stock_Price_Train.csv')\n",
    "print(gs_df_train.shape)\n",
    "gs_df_train.head()"
   ]
  },
  {
   "cell_type": "markdown",
   "metadata": {
    "_uuid": "76c4e92571ffcbed0db4a19ecb118a5243741c56"
   },
   "source": [
    "Normalization of train data"
   ]
  },
  {
   "cell_type": "code",
   "execution_count": 3,
   "metadata": {
    "_uuid": "ae720830f0052e42b55119aae088c02920db1778"
   },
   "outputs": [
    {
     "data": {
      "text/plain": [
       "array([[0.89914537],\n",
       "       [0.90319129],\n",
       "       [0.90805811],\n",
       "       ...,\n",
       "       [0.07934972],\n",
       "       [0.08360086],\n",
       "       [0.07619802]])"
      ]
     },
     "execution_count": 3,
     "metadata": {},
     "output_type": "execute_result"
    }
   ],
   "source": [
    "training_set=gs_df_train.iloc[:,1:2].values\n",
    "from sklearn.preprocessing import MinMaxScaler\n",
    "sc=MinMaxScaler(feature_range=(0,1))\n",
    "training_sc_set=sc.fit_transform(training_set)\n",
    "training_sc_set"
   ]
  },
  {
   "cell_type": "markdown",
   "metadata": {
    "_uuid": "6ecf845b9f7f76faf4587128f62b465ab7b16f0e"
   },
   "source": [
    "Split the training set and timestamps is 10."
   ]
  },
  {
   "cell_type": "code",
   "execution_count": 4,
   "metadata": {
    "_uuid": "ba898700a40570f76245506186f419cfa40ab4c7"
   },
   "outputs": [
    {
     "name": "stdout",
     "output_type": "stream",
     "text": [
      "(1248, 10) (1248,)\n"
     ]
    }
   ],
   "source": [
    "X_train=[]\n",
    "y_train=[]\n",
    "for i in range(10,1258):\n",
    "    X_train.append(training_sc_set[i-10:i,0])\n",
    "    y_train.append(training_sc_set[i,0])\n",
    "X_train,y_train=np.array(X_train),np.array(y_train)\n",
    "print(X_train.shape,y_train.shape)\n"
   ]
  },
  {
   "cell_type": "markdown",
   "metadata": {
    "_uuid": "5560b62f85a7719af2be0e4971115a8a687dae56"
   },
   "source": [
    "Reshape the X_train to model require format"
   ]
  },
  {
   "cell_type": "code",
   "execution_count": 5,
   "metadata": {
    "_uuid": "9d603e8d7a7666faef4b58ed09604adba3d6749a"
   },
   "outputs": [
    {
     "data": {
      "text/plain": [
       "(1248, 10, 1)"
      ]
     },
     "execution_count": 5,
     "metadata": {},
     "output_type": "execute_result"
    }
   ],
   "source": [
    "X_train=np.reshape(X_train,(X_train.shape[0],X_train.shape[1],1))\n",
    "X_train.shape"
   ]
  },
  {
   "cell_type": "markdown",
   "metadata": {
    "_uuid": "f55136ac8846fa9e1f6475053a13fa8d5b391d83"
   },
   "source": [
    "Import the Keras framework and necessery model libraries"
   ]
  },
  {
   "cell_type": "code",
   "execution_count": 6,
   "metadata": {
    "_uuid": "5831e00f4645d4804a13651ee0b3148925dab2ee"
   },
   "outputs": [
    {
     "name": "stderr",
     "output_type": "stream",
     "text": [
      "Using TensorFlow backend.\n"
     ]
    }
   ],
   "source": [
    "import keras\n",
    "from keras.models import Sequential\n",
    "from keras.layers import LSTM\n",
    "from keras.layers import Dense\n",
    "from keras.layers import Dropout,Flatten\n",
    "from keras import backend as k"
   ]
  },
  {
   "cell_type": "markdown",
   "metadata": {
    "_uuid": "42582b883461614dcff27ba67d5156300d5cea01"
   },
   "source": [
    "Choose the model"
   ]
  },
  {
   "cell_type": "code",
   "execution_count": 7,
   "metadata": {
    "_uuid": "9cb356229de8075b221720a7cfda2864ea10c189"
   },
   "outputs": [
    {
     "data": {
      "text/plain": [
       "<keras.engine.sequential.Sequential at 0x7fadbe7a9f60>"
      ]
     },
     "execution_count": 7,
     "metadata": {},
     "output_type": "execute_result"
    }
   ],
   "source": [
    "model=Sequential()\n",
    "model"
   ]
  },
  {
   "cell_type": "markdown",
   "metadata": {
    "_uuid": "173a473de2c0e1bf07ee4a6a12402c36c908388b"
   },
   "source": [
    "Training the sequential model"
   ]
  },
  {
   "cell_type": "code",
   "execution_count": 8,
   "metadata": {
    "_uuid": "4cdc7ff87c93d7f0866e7b8992033d10a119f537",
    "scrolled": true
   },
   "outputs": [
    {
     "name": "stdout",
     "output_type": "stream",
     "text": [
      "WARNING:tensorflow:From /opt/conda/lib/python3.6/site-packages/tensorflow/python/framework/op_def_library.py:263: colocate_with (from tensorflow.python.framework.ops) is deprecated and will be removed in a future version.\n",
      "Instructions for updating:\n",
      "Colocations handled automatically by placer.\n",
      "WARNING:tensorflow:From /opt/conda/lib/python3.6/site-packages/keras/backend/tensorflow_backend.py:3445: calling dropout (from tensorflow.python.ops.nn_ops) with keep_prob is deprecated and will be removed in a future version.\n",
      "Instructions for updating:\n",
      "Please use `rate` instead of `keep_prob`. Rate should be set to `rate = 1 - keep_prob`.\n",
      "WARNING:tensorflow:From /opt/conda/lib/python3.6/site-packages/tensorflow/python/ops/math_ops.py:3066: to_int32 (from tensorflow.python.ops.math_ops) is deprecated and will be removed in a future version.\n",
      "Instructions for updating:\n",
      "Use tf.cast instead.\n",
      "Epoch 1/50\n",
      "1248/1248 [==============================] - 2s 1ms/step - loss: 0.0172\n",
      "Epoch 2/50\n",
      "1248/1248 [==============================] - 0s 348us/step - loss: 0.0026\n",
      "Epoch 3/50\n",
      "1248/1248 [==============================] - 0s 374us/step - loss: 0.0021\n",
      "Epoch 4/50\n",
      "1248/1248 [==============================] - 0s 361us/step - loss: 0.0022\n",
      "Epoch 5/50\n",
      "1248/1248 [==============================] - 0s 242us/step - loss: 0.0020\n",
      "Epoch 6/50\n",
      "1248/1248 [==============================] - 0s 236us/step - loss: 0.0019\n",
      "Epoch 7/50\n",
      "1248/1248 [==============================] - 0s 234us/step - loss: 0.0019\n",
      "Epoch 8/50\n",
      "1248/1248 [==============================] - 0s 237us/step - loss: 0.0018\n",
      "Epoch 9/50\n",
      "1248/1248 [==============================] - 0s 222us/step - loss: 0.0017\n",
      "Epoch 10/50\n",
      "1248/1248 [==============================] - 0s 219us/step - loss: 0.0015\n",
      "Epoch 11/50\n",
      "1248/1248 [==============================] - 0s 222us/step - loss: 0.0016\n",
      "Epoch 12/50\n",
      "1248/1248 [==============================] - 0s 221us/step - loss: 0.0015\n",
      "Epoch 13/50\n",
      "1248/1248 [==============================] - 0s 218us/step - loss: 0.0014\n",
      "Epoch 14/50\n",
      "1248/1248 [==============================] - 0s 216us/step - loss: 0.0014\n",
      "Epoch 15/50\n",
      "1248/1248 [==============================] - 0s 217us/step - loss: 0.0014\n",
      "Epoch 16/50\n",
      "1248/1248 [==============================] - 0s 215us/step - loss: 0.0013\n",
      "Epoch 17/50\n",
      "1248/1248 [==============================] - 0s 234us/step - loss: 0.0014\n",
      "Epoch 18/50\n",
      "1248/1248 [==============================] - 0s 219us/step - loss: 0.0012\n",
      "Epoch 19/50\n",
      "1248/1248 [==============================] - 0s 216us/step - loss: 0.0012\n",
      "Epoch 20/50\n",
      "1248/1248 [==============================] - 0s 231us/step - loss: 0.0013\n",
      "Epoch 21/50\n",
      "1248/1248 [==============================] - 0s 224us/step - loss: 0.0012\n",
      "Epoch 22/50\n",
      "1248/1248 [==============================] - 0s 217us/step - loss: 0.0013\n",
      "Epoch 23/50\n",
      "1248/1248 [==============================] - 0s 229us/step - loss: 0.0011\n",
      "Epoch 24/50\n",
      "1248/1248 [==============================] - 0s 223us/step - loss: 0.0011\n",
      "Epoch 25/50\n",
      "1248/1248 [==============================] - 0s 213us/step - loss: 0.0012\n",
      "Epoch 26/50\n",
      "1248/1248 [==============================] - 0s 224us/step - loss: 0.0013\n",
      "Epoch 27/50\n",
      "1248/1248 [==============================] - 0s 220us/step - loss: 0.0011\n",
      "Epoch 28/50\n",
      "1248/1248 [==============================] - 0s 224us/step - loss: 0.0011\n",
      "Epoch 29/50\n",
      "1248/1248 [==============================] - 0s 229us/step - loss: 0.0011\n",
      "Epoch 30/50\n",
      "1248/1248 [==============================] - 0s 223us/step - loss: 0.0011\n",
      "Epoch 31/50\n",
      "1248/1248 [==============================] - 0s 242us/step - loss: 0.0010\n",
      "Epoch 32/50\n",
      "1248/1248 [==============================] - 0s 222us/step - loss: 0.0010\n",
      "Epoch 33/50\n",
      "1248/1248 [==============================] - 0s 217us/step - loss: 9.4358e-04\n",
      "Epoch 34/50\n",
      "1248/1248 [==============================] - 0s 222us/step - loss: 0.0010\n",
      "Epoch 35/50\n",
      "1248/1248 [==============================] - 0s 217us/step - loss: 9.1819e-04\n",
      "Epoch 36/50\n",
      "1248/1248 [==============================] - 0s 229us/step - loss: 8.9257e-04\n",
      "Epoch 37/50\n",
      "1248/1248 [==============================] - 0s 218us/step - loss: 8.7287e-04\n",
      "Epoch 38/50\n",
      "1248/1248 [==============================] - 0s 237us/step - loss: 9.4576e-04\n",
      "Epoch 39/50\n",
      "1248/1248 [==============================] - 0s 242us/step - loss: 8.6234e-04\n",
      "Epoch 40/50\n",
      "1248/1248 [==============================] - 0s 227us/step - loss: 9.6434e-04\n",
      "Epoch 41/50\n",
      "1248/1248 [==============================] - 0s 234us/step - loss: 9.0759e-04\n",
      "Epoch 42/50\n",
      "1248/1248 [==============================] - 0s 227us/step - loss: 8.9283e-04\n",
      "Epoch 43/50\n",
      "1248/1248 [==============================] - 0s 224us/step - loss: 9.0143e-04\n",
      "Epoch 44/50\n",
      "1248/1248 [==============================] - 0s 233us/step - loss: 8.3791e-04\n",
      "Epoch 45/50\n",
      "1248/1248 [==============================] - 0s 226us/step - loss: 7.7716e-04\n",
      "Epoch 46/50\n",
      "1248/1248 [==============================] - 0s 214us/step - loss: 8.6770e-04\n",
      "Epoch 47/50\n",
      "1248/1248 [==============================] - 0s 216us/step - loss: 8.0025e-04\n",
      "Epoch 48/50\n",
      "1248/1248 [==============================] - 0s 229us/step - loss: 8.0366e-04\n",
      "Epoch 49/50\n",
      "1248/1248 [==============================] - 0s 231us/step - loss: 8.1946e-04\n",
      "Epoch 50/50\n",
      "1248/1248 [==============================] - 0s 229us/step - loss: 7.8444e-04\n"
     ]
    },
    {
     "data": {
      "text/plain": [
       "<keras.callbacks.History at 0x7fadbc4e93c8>"
      ]
     },
     "execution_count": 8,
     "metadata": {},
     "output_type": "execute_result"
    }
   ],
   "source": [
    "model.add(LSTM(units=50,return_sequences=True,input_shape=(10,1)))\n",
    "model.add(Dropout(0.2))\n",
    "#model.add(LSTM(units=50,return_sequences=True))\n",
    "#model.add(Dropout(0.2))\n",
    "model.add(Flatten(data_format=None))\n",
    "model.add(Dense(units=1))\n",
    "model.compile(optimizer='RMSprop',loss='mean_squared_error')\n",
    "\n",
    "model.fit(X_train,y_train,epochs=50,batch_size=32)"
   ]
  },
  {
   "cell_type": "markdown",
   "metadata": {
    "_uuid": "f457352638d2d48a48bf4a779956af6b2e21d096"
   },
   "source": [
    "import the  test dataset for testing the model"
   ]
  },
  {
   "cell_type": "code",
   "execution_count": 9,
   "metadata": {
    "_uuid": "b76e8457aec561816a79523844cc56f42123051b"
   },
   "outputs": [
    {
     "name": "stdout",
     "output_type": "stream",
     "text": [
      "(21, 6)\n"
     ]
    },
    {
     "data": {
      "text/html": [
       "<div>\n",
       "<style scoped>\n",
       "    .dataframe tbody tr th:only-of-type {\n",
       "        vertical-align: middle;\n",
       "    }\n",
       "\n",
       "    .dataframe tbody tr th {\n",
       "        vertical-align: top;\n",
       "    }\n",
       "\n",
       "    .dataframe thead th {\n",
       "        text-align: right;\n",
       "    }\n",
       "</style>\n",
       "<table border=\"1\" class=\"dataframe\">\n",
       "  <thead>\n",
       "    <tr style=\"text-align: right;\">\n",
       "      <th></th>\n",
       "      <th>Date</th>\n",
       "      <th>Open</th>\n",
       "      <th>High</th>\n",
       "      <th>Low</th>\n",
       "      <th>Close</th>\n",
       "      <th>Volume</th>\n",
       "    </tr>\n",
       "  </thead>\n",
       "  <tbody>\n",
       "    <tr>\n",
       "      <th>0</th>\n",
       "      <td>25-Oct-17</td>\n",
       "      <td>986.27</td>\n",
       "      <td>994.43</td>\n",
       "      <td>977.72</td>\n",
       "      <td>991.46</td>\n",
       "      <td>1395282</td>\n",
       "    </tr>\n",
       "    <tr>\n",
       "      <th>1</th>\n",
       "      <td>24-Oct-17</td>\n",
       "      <td>986.50</td>\n",
       "      <td>989.26</td>\n",
       "      <td>977.08</td>\n",
       "      <td>988.49</td>\n",
       "      <td>1445129</td>\n",
       "    </tr>\n",
       "    <tr>\n",
       "      <th>2</th>\n",
       "      <td>23-Oct-17</td>\n",
       "      <td>1005.18</td>\n",
       "      <td>1005.79</td>\n",
       "      <td>983.10</td>\n",
       "      <td>985.54</td>\n",
       "      <td>1639294</td>\n",
       "    </tr>\n",
       "    <tr>\n",
       "      <th>3</th>\n",
       "      <td>20-Oct-17</td>\n",
       "      <td>1007.05</td>\n",
       "      <td>1008.65</td>\n",
       "      <td>1002.27</td>\n",
       "      <td>1005.07</td>\n",
       "      <td>1606031</td>\n",
       "    </tr>\n",
       "    <tr>\n",
       "      <th>4</th>\n",
       "      <td>19-Oct-17</td>\n",
       "      <td>1004.75</td>\n",
       "      <td>1007.32</td>\n",
       "      <td>997.30</td>\n",
       "      <td>1001.84</td>\n",
       "      <td>1714243</td>\n",
       "    </tr>\n",
       "  </tbody>\n",
       "</table>\n",
       "</div>"
      ],
      "text/plain": [
       "        Date     Open     High      Low    Close   Volume\n",
       "0  25-Oct-17   986.27   994.43   977.72   991.46  1395282\n",
       "1  24-Oct-17   986.50   989.26   977.08   988.49  1445129\n",
       "2  23-Oct-17  1005.18  1005.79   983.10   985.54  1639294\n",
       "3  20-Oct-17  1007.05  1008.65  1002.27  1005.07  1606031\n",
       "4  19-Oct-17  1004.75  1007.32   997.30  1001.84  1714243"
      ]
     },
     "execution_count": 9,
     "metadata": {},
     "output_type": "execute_result"
    }
   ],
   "source": [
    "gs_df_test=pd.read_csv('../input/Google_Stock_Price_Test.csv')\n",
    "print(gs_df_test.shape)\n",
    "gs_df_test.head()"
   ]
  },
  {
   "cell_type": "markdown",
   "metadata": {
    "_uuid": "9ae8b58386f766d120375420b560676d4b4adf43"
   },
   "source": [
    "Original google stock prices"
   ]
  },
  {
   "cell_type": "code",
   "execution_count": 10,
   "metadata": {
    "_uuid": "9468bc594b84efe4a695921483e5670e7f27cb6e"
   },
   "outputs": [
    {
     "data": {
      "text/plain": [
       "array([[ 986.27],\n",
       "       [ 986.5 ],\n",
       "       [1005.18],\n",
       "       [1007.05],\n",
       "       [1004.75],\n",
       "       [1011.05],\n",
       "       [1007.44],\n",
       "       [1009.63],\n",
       "       [1009.11],\n",
       "       [1003.84],\n",
       "       [ 989.04],\n",
       "       [ 995.3 ],\n",
       "       [ 995.  ],\n",
       "       [ 980.  ],\n",
       "       [ 972.79],\n",
       "       [ 971.76],\n",
       "       [ 967.56],\n",
       "       [ 975.65],\n",
       "       [ 966.  ],\n",
       "       [ 956.25],\n",
       "       [ 942.74]])"
      ]
     },
     "execution_count": 10,
     "metadata": {},
     "output_type": "execute_result"
    }
   ],
   "source": [
    "real_gs_price=gs_df_test.iloc[:,1:2].values\n",
    "real_gs_price"
   ]
  },
  {
   "cell_type": "markdown",
   "metadata": {
    "_uuid": "f192a8aa4a66cc318935035dc66b1525445d5d3d"
   },
   "source": [
    "Finding the total google stock by concating the google stock train and google stock test. "
   ]
  },
  {
   "cell_type": "code",
   "execution_count": 11,
   "metadata": {
    "_uuid": "a8a135c162a65ed83b8269ebe19e94a55e1aa519"
   },
   "outputs": [
    {
     "name": "stdout",
     "output_type": "stream",
     "text": [
      "(1279,)\n"
     ]
    },
    {
     "data": {
      "text/plain": [
       "0    936.69\n",
       "1    939.45\n",
       "2    942.77\n",
       "3    948.13\n",
       "4    937.73\n",
       "Name: Open, dtype: float64"
      ]
     },
     "execution_count": 11,
     "metadata": {},
     "output_type": "execute_result"
    }
   ],
   "source": [
    "gs_df_total=pd.concat([gs_df_train['Open'],gs_df_test['Open']],axis=0)\n",
    "print(gs_df_total.shape)\n",
    "gs_df_total.head()"
   ]
  },
  {
   "cell_type": "markdown",
   "metadata": {
    "_uuid": "635ea99d3c587cd093a704b6b58531b48f863702"
   },
   "source": [
    "Test input for testing the model"
   ]
  },
  {
   "cell_type": "code",
   "execution_count": 12,
   "metadata": {
    "_uuid": "4ab33277518a8ff33b4127e544c088b0db3a82c1"
   },
   "outputs": [
    {
     "data": {
      "text/plain": [
       "array([ 380.22,  380.88,  385.74,  381.76,  378.24,  382.98,  379.9 ,\n",
       "        377.45,  380.35,  375.3 ,  986.27,  986.5 , 1005.18, 1007.05,\n",
       "       1004.75, 1011.05, 1007.44, 1009.63, 1009.11, 1003.84,  989.04,\n",
       "        995.3 ,  995.  ,  980.  ,  972.79,  971.76,  967.56,  975.65,\n",
       "        966.  ,  956.25,  942.74])"
      ]
     },
     "execution_count": 12,
     "metadata": {},
     "output_type": "execute_result"
    }
   ],
   "source": [
    "test_input=gs_df_total[len(gs_df_total)-len(gs_df_test)-10:].values\n",
    "test_input"
   ]
  },
  {
   "cell_type": "markdown",
   "metadata": {
    "_uuid": "5e119990c86e2da7363a689ef7ee507fb4dd8331"
   },
   "source": [
    "Reshape the test input"
   ]
  },
  {
   "cell_type": "code",
   "execution_count": 13,
   "metadata": {
    "_uuid": "528b1581a46770a1892fb9eb75d192e727aa21b1"
   },
   "outputs": [
    {
     "name": "stdout",
     "output_type": "stream",
     "text": [
      "(31, 1)\n"
     ]
    },
    {
     "data": {
      "text/plain": [
       "array([[ 380.22],\n",
       "       [ 380.88],\n",
       "       [ 385.74],\n",
       "       [ 381.76],\n",
       "       [ 378.24],\n",
       "       [ 382.98],\n",
       "       [ 379.9 ],\n",
       "       [ 377.45],\n",
       "       [ 380.35],\n",
       "       [ 375.3 ],\n",
       "       [ 986.27],\n",
       "       [ 986.5 ],\n",
       "       [1005.18],\n",
       "       [1007.05],\n",
       "       [1004.75],\n",
       "       [1011.05],\n",
       "       [1007.44],\n",
       "       [1009.63],\n",
       "       [1009.11],\n",
       "       [1003.84],\n",
       "       [ 989.04],\n",
       "       [ 995.3 ],\n",
       "       [ 995.  ],\n",
       "       [ 980.  ],\n",
       "       [ 972.79],\n",
       "       [ 971.76],\n",
       "       [ 967.56],\n",
       "       [ 975.65],\n",
       "       [ 966.  ],\n",
       "       [ 956.25],\n",
       "       [ 942.74]])"
      ]
     },
     "execution_count": 13,
     "metadata": {},
     "output_type": "execute_result"
    }
   ],
   "source": [
    "test_input=test_input.reshape(-1,1)\n",
    "print(test_input.shape)\n",
    "test_input"
   ]
  },
  {
   "cell_type": "markdown",
   "metadata": {
    "_uuid": "b9a4045c854e07c9061083422ce56222f632fd4e"
   },
   "source": [
    "Normalization of test input"
   ]
  },
  {
   "cell_type": "code",
   "execution_count": 14,
   "metadata": {
    "_uuid": "b89c3672386b7df63d4cf82fd8c5cabb58952d92"
   },
   "outputs": [
    {
     "name": "stdout",
     "output_type": "stream",
     "text": [
      "(31, 1)\n"
     ]
    },
    {
     "data": {
      "text/plain": [
       "array([[0.08341029],\n",
       "       [0.08437779],\n",
       "       [0.09150212],\n",
       "       [0.0856678 ],\n",
       "       [0.08050779],\n",
       "       [0.08745621],\n",
       "       [0.0829412 ],\n",
       "       [0.07934972],\n",
       "       [0.08360086],\n",
       "       [0.07619802],\n",
       "       [0.9718252 ],\n",
       "       [0.97216236],\n",
       "       [0.99954557],\n",
       "       [1.00228682],\n",
       "       [0.99891523],\n",
       "       [1.00815046],\n",
       "       [1.00285853],\n",
       "       [1.00606887],\n",
       "       [1.0053066 ],\n",
       "       [0.99758125],\n",
       "       [0.97588578],\n",
       "       [0.98506237],\n",
       "       [0.9846226 ],\n",
       "       [0.96263395],\n",
       "       [0.95206473],\n",
       "       [0.95055485],\n",
       "       [0.94439802],\n",
       "       [0.95625724],\n",
       "       [0.9421112 ],\n",
       "       [0.92781858],\n",
       "       [0.90801413]])"
      ]
     },
     "execution_count": 14,
     "metadata": {},
     "output_type": "execute_result"
    }
   ],
   "source": [
    "test_input=sc.transform(test_input)\n",
    "print(test_input.shape)\n",
    "test_input"
   ]
  },
  {
   "cell_type": "markdown",
   "metadata": {
    "_uuid": "bd77b3d5d3f16ef42cc33d2b92acb6f5028ac190"
   },
   "source": [
    "Finding the X_test from test_input"
   ]
  },
  {
   "cell_type": "code",
   "execution_count": 15,
   "metadata": {
    "_uuid": "fc7ce45402a5e37c37d359c71cd58cfdee19695f"
   },
   "outputs": [
    {
     "name": "stdout",
     "output_type": "stream",
     "text": [
      "(21, 10)\n"
     ]
    },
    {
     "data": {
      "text/plain": [
       "array([[0.08341029, 0.08437779, 0.09150212, 0.0856678 , 0.08050779,\n",
       "        0.08745621, 0.0829412 , 0.07934972, 0.08360086, 0.07619802],\n",
       "       [0.08437779, 0.09150212, 0.0856678 , 0.08050779, 0.08745621,\n",
       "        0.0829412 , 0.07934972, 0.08360086, 0.07619802, 0.9718252 ],\n",
       "       [0.09150212, 0.0856678 , 0.08050779, 0.08745621, 0.0829412 ,\n",
       "        0.07934972, 0.08360086, 0.07619802, 0.9718252 , 0.97216236],\n",
       "       [0.0856678 , 0.08050779, 0.08745621, 0.0829412 , 0.07934972,\n",
       "        0.08360086, 0.07619802, 0.9718252 , 0.97216236, 0.99954557],\n",
       "       [0.08050779, 0.08745621, 0.0829412 , 0.07934972, 0.08360086,\n",
       "        0.07619802, 0.9718252 , 0.97216236, 0.99954557, 1.00228682],\n",
       "       [0.08745621, 0.0829412 , 0.07934972, 0.08360086, 0.07619802,\n",
       "        0.9718252 , 0.97216236, 0.99954557, 1.00228682, 0.99891523],\n",
       "       [0.0829412 , 0.07934972, 0.08360086, 0.07619802, 0.9718252 ,\n",
       "        0.97216236, 0.99954557, 1.00228682, 0.99891523, 1.00815046],\n",
       "       [0.07934972, 0.08360086, 0.07619802, 0.9718252 , 0.97216236,\n",
       "        0.99954557, 1.00228682, 0.99891523, 1.00815046, 1.00285853],\n",
       "       [0.08360086, 0.07619802, 0.9718252 , 0.97216236, 0.99954557,\n",
       "        1.00228682, 0.99891523, 1.00815046, 1.00285853, 1.00606887],\n",
       "       [0.07619802, 0.9718252 , 0.97216236, 0.99954557, 1.00228682,\n",
       "        0.99891523, 1.00815046, 1.00285853, 1.00606887, 1.0053066 ],\n",
       "       [0.9718252 , 0.97216236, 0.99954557, 1.00228682, 0.99891523,\n",
       "        1.00815046, 1.00285853, 1.00606887, 1.0053066 , 0.99758125],\n",
       "       [0.97216236, 0.99954557, 1.00228682, 0.99891523, 1.00815046,\n",
       "        1.00285853, 1.00606887, 1.0053066 , 0.99758125, 0.97588578],\n",
       "       [0.99954557, 1.00228682, 0.99891523, 1.00815046, 1.00285853,\n",
       "        1.00606887, 1.0053066 , 0.99758125, 0.97588578, 0.98506237],\n",
       "       [1.00228682, 0.99891523, 1.00815046, 1.00285853, 1.00606887,\n",
       "        1.0053066 , 0.99758125, 0.97588578, 0.98506237, 0.9846226 ],\n",
       "       [0.99891523, 1.00815046, 1.00285853, 1.00606887, 1.0053066 ,\n",
       "        0.99758125, 0.97588578, 0.98506237, 0.9846226 , 0.96263395],\n",
       "       [1.00815046, 1.00285853, 1.00606887, 1.0053066 , 0.99758125,\n",
       "        0.97588578, 0.98506237, 0.9846226 , 0.96263395, 0.95206473],\n",
       "       [1.00285853, 1.00606887, 1.0053066 , 0.99758125, 0.97588578,\n",
       "        0.98506237, 0.9846226 , 0.96263395, 0.95206473, 0.95055485],\n",
       "       [1.00606887, 1.0053066 , 0.99758125, 0.97588578, 0.98506237,\n",
       "        0.9846226 , 0.96263395, 0.95206473, 0.95055485, 0.94439802],\n",
       "       [1.0053066 , 0.99758125, 0.97588578, 0.98506237, 0.9846226 ,\n",
       "        0.96263395, 0.95206473, 0.95055485, 0.94439802, 0.95625724],\n",
       "       [0.99758125, 0.97588578, 0.98506237, 0.9846226 , 0.96263395,\n",
       "        0.95206473, 0.95055485, 0.94439802, 0.95625724, 0.9421112 ],\n",
       "       [0.97588578, 0.98506237, 0.9846226 , 0.96263395, 0.95206473,\n",
       "        0.95055485, 0.94439802, 0.95625724, 0.9421112 , 0.92781858]])"
      ]
     },
     "execution_count": 15,
     "metadata": {},
     "output_type": "execute_result"
    }
   ],
   "source": [
    "X_test=[]\n",
    "for i in range(10,31):\n",
    "    X_test.append(test_input[i-10:i,0])\n",
    "\n",
    "X_test=np.array(X_test)\n",
    "print(X_test.shape)\n",
    "X_test"
   ]
  },
  {
   "cell_type": "markdown",
   "metadata": {
    "_uuid": "73822e3e2a9f64cdbd023519296a40428dff9fc4"
   },
   "source": [
    "Reshape the X_test to model require format"
   ]
  },
  {
   "cell_type": "code",
   "execution_count": 16,
   "metadata": {
    "_uuid": "aff5d4a350b3d8599f8ce54839255cb1de6f5d61"
   },
   "outputs": [
    {
     "name": "stdout",
     "output_type": "stream",
     "text": [
      "(21, 10, 1)\n"
     ]
    },
    {
     "data": {
      "text/plain": [
       "array([[[0.08341029],\n",
       "        [0.08437779],\n",
       "        [0.09150212],\n",
       "        [0.0856678 ],\n",
       "        [0.08050779],\n",
       "        [0.08745621],\n",
       "        [0.0829412 ],\n",
       "        [0.07934972],\n",
       "        [0.08360086],\n",
       "        [0.07619802]],\n",
       "\n",
       "       [[0.08437779],\n",
       "        [0.09150212],\n",
       "        [0.0856678 ],\n",
       "        [0.08050779],\n",
       "        [0.08745621],\n",
       "        [0.0829412 ],\n",
       "        [0.07934972],\n",
       "        [0.08360086],\n",
       "        [0.07619802],\n",
       "        [0.9718252 ]],\n",
       "\n",
       "       [[0.09150212],\n",
       "        [0.0856678 ],\n",
       "        [0.08050779],\n",
       "        [0.08745621],\n",
       "        [0.0829412 ],\n",
       "        [0.07934972],\n",
       "        [0.08360086],\n",
       "        [0.07619802],\n",
       "        [0.9718252 ],\n",
       "        [0.97216236]],\n",
       "\n",
       "       [[0.0856678 ],\n",
       "        [0.08050779],\n",
       "        [0.08745621],\n",
       "        [0.0829412 ],\n",
       "        [0.07934972],\n",
       "        [0.08360086],\n",
       "        [0.07619802],\n",
       "        [0.9718252 ],\n",
       "        [0.97216236],\n",
       "        [0.99954557]],\n",
       "\n",
       "       [[0.08050779],\n",
       "        [0.08745621],\n",
       "        [0.0829412 ],\n",
       "        [0.07934972],\n",
       "        [0.08360086],\n",
       "        [0.07619802],\n",
       "        [0.9718252 ],\n",
       "        [0.97216236],\n",
       "        [0.99954557],\n",
       "        [1.00228682]],\n",
       "\n",
       "       [[0.08745621],\n",
       "        [0.0829412 ],\n",
       "        [0.07934972],\n",
       "        [0.08360086],\n",
       "        [0.07619802],\n",
       "        [0.9718252 ],\n",
       "        [0.97216236],\n",
       "        [0.99954557],\n",
       "        [1.00228682],\n",
       "        [0.99891523]],\n",
       "\n",
       "       [[0.0829412 ],\n",
       "        [0.07934972],\n",
       "        [0.08360086],\n",
       "        [0.07619802],\n",
       "        [0.9718252 ],\n",
       "        [0.97216236],\n",
       "        [0.99954557],\n",
       "        [1.00228682],\n",
       "        [0.99891523],\n",
       "        [1.00815046]],\n",
       "\n",
       "       [[0.07934972],\n",
       "        [0.08360086],\n",
       "        [0.07619802],\n",
       "        [0.9718252 ],\n",
       "        [0.97216236],\n",
       "        [0.99954557],\n",
       "        [1.00228682],\n",
       "        [0.99891523],\n",
       "        [1.00815046],\n",
       "        [1.00285853]],\n",
       "\n",
       "       [[0.08360086],\n",
       "        [0.07619802],\n",
       "        [0.9718252 ],\n",
       "        [0.97216236],\n",
       "        [0.99954557],\n",
       "        [1.00228682],\n",
       "        [0.99891523],\n",
       "        [1.00815046],\n",
       "        [1.00285853],\n",
       "        [1.00606887]],\n",
       "\n",
       "       [[0.07619802],\n",
       "        [0.9718252 ],\n",
       "        [0.97216236],\n",
       "        [0.99954557],\n",
       "        [1.00228682],\n",
       "        [0.99891523],\n",
       "        [1.00815046],\n",
       "        [1.00285853],\n",
       "        [1.00606887],\n",
       "        [1.0053066 ]],\n",
       "\n",
       "       [[0.9718252 ],\n",
       "        [0.97216236],\n",
       "        [0.99954557],\n",
       "        [1.00228682],\n",
       "        [0.99891523],\n",
       "        [1.00815046],\n",
       "        [1.00285853],\n",
       "        [1.00606887],\n",
       "        [1.0053066 ],\n",
       "        [0.99758125]],\n",
       "\n",
       "       [[0.97216236],\n",
       "        [0.99954557],\n",
       "        [1.00228682],\n",
       "        [0.99891523],\n",
       "        [1.00815046],\n",
       "        [1.00285853],\n",
       "        [1.00606887],\n",
       "        [1.0053066 ],\n",
       "        [0.99758125],\n",
       "        [0.97588578]],\n",
       "\n",
       "       [[0.99954557],\n",
       "        [1.00228682],\n",
       "        [0.99891523],\n",
       "        [1.00815046],\n",
       "        [1.00285853],\n",
       "        [1.00606887],\n",
       "        [1.0053066 ],\n",
       "        [0.99758125],\n",
       "        [0.97588578],\n",
       "        [0.98506237]],\n",
       "\n",
       "       [[1.00228682],\n",
       "        [0.99891523],\n",
       "        [1.00815046],\n",
       "        [1.00285853],\n",
       "        [1.00606887],\n",
       "        [1.0053066 ],\n",
       "        [0.99758125],\n",
       "        [0.97588578],\n",
       "        [0.98506237],\n",
       "        [0.9846226 ]],\n",
       "\n",
       "       [[0.99891523],\n",
       "        [1.00815046],\n",
       "        [1.00285853],\n",
       "        [1.00606887],\n",
       "        [1.0053066 ],\n",
       "        [0.99758125],\n",
       "        [0.97588578],\n",
       "        [0.98506237],\n",
       "        [0.9846226 ],\n",
       "        [0.96263395]],\n",
       "\n",
       "       [[1.00815046],\n",
       "        [1.00285853],\n",
       "        [1.00606887],\n",
       "        [1.0053066 ],\n",
       "        [0.99758125],\n",
       "        [0.97588578],\n",
       "        [0.98506237],\n",
       "        [0.9846226 ],\n",
       "        [0.96263395],\n",
       "        [0.95206473]],\n",
       "\n",
       "       [[1.00285853],\n",
       "        [1.00606887],\n",
       "        [1.0053066 ],\n",
       "        [0.99758125],\n",
       "        [0.97588578],\n",
       "        [0.98506237],\n",
       "        [0.9846226 ],\n",
       "        [0.96263395],\n",
       "        [0.95206473],\n",
       "        [0.95055485]],\n",
       "\n",
       "       [[1.00606887],\n",
       "        [1.0053066 ],\n",
       "        [0.99758125],\n",
       "        [0.97588578],\n",
       "        [0.98506237],\n",
       "        [0.9846226 ],\n",
       "        [0.96263395],\n",
       "        [0.95206473],\n",
       "        [0.95055485],\n",
       "        [0.94439802]],\n",
       "\n",
       "       [[1.0053066 ],\n",
       "        [0.99758125],\n",
       "        [0.97588578],\n",
       "        [0.98506237],\n",
       "        [0.9846226 ],\n",
       "        [0.96263395],\n",
       "        [0.95206473],\n",
       "        [0.95055485],\n",
       "        [0.94439802],\n",
       "        [0.95625724]],\n",
       "\n",
       "       [[0.99758125],\n",
       "        [0.97588578],\n",
       "        [0.98506237],\n",
       "        [0.9846226 ],\n",
       "        [0.96263395],\n",
       "        [0.95206473],\n",
       "        [0.95055485],\n",
       "        [0.94439802],\n",
       "        [0.95625724],\n",
       "        [0.9421112 ]],\n",
       "\n",
       "       [[0.97588578],\n",
       "        [0.98506237],\n",
       "        [0.9846226 ],\n",
       "        [0.96263395],\n",
       "        [0.95206473],\n",
       "        [0.95055485],\n",
       "        [0.94439802],\n",
       "        [0.95625724],\n",
       "        [0.9421112 ],\n",
       "        [0.92781858]]])"
      ]
     },
     "execution_count": 16,
     "metadata": {},
     "output_type": "execute_result"
    }
   ],
   "source": [
    "X_test=np.reshape(X_test,(X_test.shape[0],X_test.shape[1],1))\n",
    "print(X_test.shape)\n",
    "X_test"
   ]
  },
  {
   "cell_type": "markdown",
   "metadata": {
    "_uuid": "6f6ac4c4d738a0d05cefe7c0d9f6c5892bdcb9f9"
   },
   "source": [
    "Predict the google stock "
   ]
  },
  {
   "cell_type": "code",
   "execution_count": 17,
   "metadata": {
    "_uuid": "bace1526d6e85e048313d6e79835c199eca2c7c2"
   },
   "outputs": [
    {
     "data": {
      "text/plain": [
       "array([[0.0792271 ],\n",
       "       [0.22265425],\n",
       "       [0.40274447],\n",
       "       [0.5636809 ],\n",
       "       [0.6766337 ],\n",
       "       [0.7432894 ],\n",
       "       [0.78708315],\n",
       "       [0.8222256 ],\n",
       "       [0.86717564],\n",
       "       [0.9218272 ],\n",
       "       [0.9783461 ],\n",
       "       [0.97492826],\n",
       "       [0.9726101 ],\n",
       "       [0.9700843 ],\n",
       "       [0.96494764],\n",
       "       [0.9582324 ],\n",
       "       [0.95119834],\n",
       "       [0.9448529 ],\n",
       "       [0.9415015 ],\n",
       "       [0.9373294 ],\n",
       "       [0.93116933]], dtype=float32)"
      ]
     },
     "execution_count": 17,
     "metadata": {},
     "output_type": "execute_result"
    }
   ],
   "source": [
    "predicted_gs_price=model.predict(X_test)\n",
    "predicted_gs_price"
   ]
  },
  {
   "cell_type": "markdown",
   "metadata": {
    "_uuid": "4ae6357ea98faab04f6fa8d24826cff17dbf6093"
   },
   "source": [
    "Determine the predicted google stock prices by using Inverse transformation"
   ]
  },
  {
   "cell_type": "code",
   "execution_count": 18,
   "metadata": {
    "_uuid": "87da67985ab02038af2fe85fa1b6f9fc565cb3cf"
   },
   "outputs": [
    {
     "data": {
      "text/plain": [
       "array([[377.36636],\n",
       "       [475.20804],\n",
       "       [598.0602 ],\n",
       "       [707.8462 ],\n",
       "       [784.89923],\n",
       "       [830.3697 ],\n",
       "       [860.2445 ],\n",
       "       [884.21765],\n",
       "       [914.88116],\n",
       "       [952.1629 ],\n",
       "       [990.7184 ],\n",
       "       [988.38684],\n",
       "       [986.8055 ],\n",
       "       [985.08246],\n",
       "       [981.5783 ],\n",
       "       [976.99744],\n",
       "       [972.199  ],\n",
       "       [967.8703 ],\n",
       "       [965.5841 ],\n",
       "       [962.73804],\n",
       "       [958.53577]], dtype=float32)"
      ]
     },
     "execution_count": 18,
     "metadata": {},
     "output_type": "execute_result"
    }
   ],
   "source": [
    "predicted_gs_price=sc.inverse_transform(predicted_gs_price)\n",
    "predicted_gs_price"
   ]
  },
  {
   "cell_type": "markdown",
   "metadata": {
    "_uuid": "2ac5680aae7469f7ac1eba38161b71d7e938d24f"
   },
   "source": [
    "plot the original and predicted google stock price"
   ]
  },
  {
   "cell_type": "code",
   "execution_count": 19,
   "metadata": {
    "_uuid": "8959b8ac66f8668ff09ab9838e243edaf4c166a7"
   },
   "outputs": [
    {
     "data": {
      "image/png": "[encoded data removed]",
      "text/plain": [
       "<Figure size 432x288 with 1 Axes>"
      ]
     },
     "metadata": {},
     "output_type": "display_data"
    }
   ],
   "source": [
    "plt.plot(real_gs_price,color='r',alpha=0.3,label='Real stock price')\n",
    "plt.plot(predicted_gs_price,color='g',label='Predicted stock price')\n",
    "plt.title('Google Stock Price Prediction')\n",
    "plt.xlabel('Time')\n",
    "plt.ylabel('Google Stock Price')\n",
    "plt.legend()\n",
    "plt.show()"
   ]
  },
  {
   "cell_type": "markdown",
   "metadata": {
    "_uuid": "7864cce9db828ae3b8bb9bbafc6c084153426649"
   },
   "source": [
    "Second approach to predict the stock prices"
   ]
  },
  {
   "cell_type": "code",
   "execution_count": 20,
   "metadata": {
    "_uuid": "9a7ccdee9cb997d829f8d0c49b73ee036fa5ddbe"
   },
   "outputs": [
    {
     "data": {
      "text/plain": [
       "array([[937.43],\n",
       "       [934.28],\n",
       "       [943.26],\n",
       "       ...,\n",
       "       [377.63],\n",
       "       [378.63],\n",
       "       [377.11]])"
      ]
     },
     "execution_count": 20,
     "metadata": {},
     "output_type": "execute_result"
    }
   ],
   "source": [
    "gs_training_set=gs_df_train.iloc[:,4:5].values\n",
    "gs_training_set"
   ]
  },
  {
   "cell_type": "markdown",
   "metadata": {
    "_uuid": "d244c0143a8679a943c889c8ebc30c36d2e38d4b"
   },
   "source": [
    "Normalization of train_input"
   ]
  },
  {
   "cell_type": "code",
   "execution_count": 21,
   "metadata": {
    "_uuid": "212c9e27dfdffcc5c91766b6ae49459a14535e50"
   },
   "outputs": [
    {
     "name": "stdout",
     "output_type": "stream",
     "text": [
      "(1258, 1)\n"
     ]
    },
    {
     "data": {
      "text/plain": [
       "array([[0.90174464],\n",
       "       [0.89711481],\n",
       "       [0.91031351],\n",
       "       ...,\n",
       "       [0.07895704],\n",
       "       [0.08042683],\n",
       "       [0.07819275]])"
      ]
     },
     "execution_count": 21,
     "metadata": {},
     "output_type": "execute_result"
    }
   ],
   "source": [
    "scaler=MinMaxScaler(feature_range=(0,1))\n",
    "train_input=scaler.fit_transform(gs_training_set)\n",
    "print(train_input.shape)\n",
    "train_input"
   ]
  },
  {
   "cell_type": "markdown",
   "metadata": {
    "_uuid": "f624b7632a7cfb1b0b81e98b9c579ee935e1ab26"
   },
   "source": [
    "Split the train_input into gs_X_train and gs_y_train"
   ]
  },
  {
   "cell_type": "code",
   "execution_count": 22,
   "metadata": {
    "_uuid": "4da6a52a4dbe815391698055f99dc2629bdd66dc"
   },
   "outputs": [
    {
     "name": "stdout",
     "output_type": "stream",
     "text": [
      "(1248, 10) (1248,)\n"
     ]
    }
   ],
   "source": [
    "gs_X_train=[]\n",
    "gs_y_train=[]\n",
    "for i in range(10,1258):\n",
    "    gs_X_train.append(train_input[i-10:i,0])\n",
    "    gs_y_train.append(train_input[i,0])\n",
    "gs_X_train,gs_y_train=np.array(gs_X_train),np.array(gs_y_train)\n",
    "print(gs_X_train.shape,gs_y_train.shape)"
   ]
  },
  {
   "cell_type": "markdown",
   "metadata": {
    "_uuid": "7595b79b88b1adbb86988b0f11988131b8efc9f1"
   },
   "source": [
    "Reshape the gs_X_train to model require format"
   ]
  },
  {
   "cell_type": "code",
   "execution_count": 23,
   "metadata": {
    "_uuid": "1d9bd8178d352c0c9e39c8c6f64e7da3422e26c5"
   },
   "outputs": [
    {
     "name": "stdout",
     "output_type": "stream",
     "text": [
      "(1248, 10, 1)\n"
     ]
    },
    {
     "data": {
      "text/plain": [
       "array([[[0.90174464],\n",
       "        [0.89711481],\n",
       "        [0.91031351],\n",
       "        ...,\n",
       "        [0.89859929],\n",
       "        [0.90571307],\n",
       "        [0.92086659]],\n",
       "\n",
       "       [[0.89711481],\n",
       "        [0.91031351],\n",
       "        [0.9166189 ],\n",
       "        ...,\n",
       "        [0.90571307],\n",
       "        [0.92086659],\n",
       "        [0.91529609]],\n",
       "\n",
       "       [[0.91031351],\n",
       "        [0.9166189 ],\n",
       "        [0.9166042 ],\n",
       "        ...,\n",
       "        [0.92086659],\n",
       "        [0.91529609],\n",
       "        [0.9103576 ]],\n",
       "\n",
       "       ...,\n",
       "\n",
       "       [[0.07178447],\n",
       "        [0.07673766],\n",
       "        [0.07163749],\n",
       "        ...,\n",
       "        [0.08483619],\n",
       "        [0.08077958],\n",
       "        [0.08430707]],\n",
       "\n",
       "       [[0.07673766],\n",
       "        [0.07163749],\n",
       "        [0.07129944],\n",
       "        ...,\n",
       "        [0.08077958],\n",
       "        [0.08430707],\n",
       "        [0.07895704]],\n",
       "\n",
       "       [[0.07163749],\n",
       "        [0.07129944],\n",
       "        [0.08141158],\n",
       "        ...,\n",
       "        [0.08430707],\n",
       "        [0.07895704],\n",
       "        [0.08042683]]])"
      ]
     },
     "execution_count": 23,
     "metadata": {},
     "output_type": "execute_result"
    }
   ],
   "source": [
    "gs_X_train=np.reshape(gs_X_train,(gs_X_train.shape[0],gs_X_train.shape[1],1))\n",
    "print(gs_X_train.shape)\n",
    "gs_X_train"
   ]
  },
  {
   "cell_type": "markdown",
   "metadata": {
    "_uuid": "06baf9822e8552df3962dbafa98bd11e0015ebfc"
   },
   "source": [
    "Choose the LSTM model"
   ]
  },
  {
   "cell_type": "code",
   "execution_count": 24,
   "metadata": {
    "_uuid": "aa0af3ad36cb963a456dbe0cba15f99df2cdeb62"
   },
   "outputs": [
    {
     "data": {
      "text/plain": [
       "<keras.engine.sequential.Sequential at 0x7fadb5bb6748>"
      ]
     },
     "execution_count": 24,
     "metadata": {},
     "output_type": "execute_result"
    }
   ],
   "source": [
    "regressor=Sequential()\n",
    "regressor"
   ]
  },
  {
   "cell_type": "markdown",
   "metadata": {
    "_uuid": "9ac2bf53a1f61075c113a30780baef056960d82c"
   },
   "source": [
    "Training the LSTM model"
   ]
  },
  {
   "cell_type": "code",
   "execution_count": 25,
   "metadata": {
    "_uuid": "cfddee48ac1823f7e88afe25581f86cbb469adb7"
   },
   "outputs": [
    {
     "name": "stdout",
     "output_type": "stream",
     "text": [
      "Epoch 1/50\n",
      "1248/1248 [==============================] - 1s 853us/step - loss: 0.0150\n",
      "Epoch 2/50\n",
      "1248/1248 [==============================] - 0s 274us/step - loss: 0.0027\n",
      "Epoch 3/50\n",
      "1248/1248 [==============================] - 0s 281us/step - loss: 0.0025\n",
      "Epoch 4/50\n",
      "1248/1248 [==============================] - 0s 283us/step - loss: 0.0023\n",
      "Epoch 5/50\n",
      "1248/1248 [==============================] - 0s 280us/step - loss: 0.0022\n",
      "Epoch 6/50\n",
      "1248/1248 [==============================] - 0s 282us/step - loss: 0.0018\n",
      "Epoch 7/50\n",
      "1248/1248 [==============================] - 0s 285us/step - loss: 0.0018\n",
      "Epoch 8/50\n",
      "1248/1248 [==============================] - 0s 277us/step - loss: 0.0018\n",
      "Epoch 9/50\n",
      "1248/1248 [==============================] - 0s 277us/step - loss: 0.0018\n",
      "Epoch 10/50\n",
      "1248/1248 [==============================] - 0s 282us/step - loss: 0.0016\n",
      "Epoch 11/50\n",
      "1248/1248 [==============================] - 0s 279us/step - loss: 0.0018\n",
      "Epoch 12/50\n",
      "1248/1248 [==============================] - 0s 281us/step - loss: 0.0015\n",
      "Epoch 13/50\n",
      "1248/1248 [==============================] - 0s 272us/step - loss: 0.0015\n",
      "Epoch 14/50\n",
      "1248/1248 [==============================] - 0s 281us/step - loss: 0.0015\n",
      "Epoch 15/50\n",
      "1248/1248 [==============================] - 0s 271us/step - loss: 0.0014\n",
      "Epoch 16/50\n",
      "1248/1248 [==============================] - 0s 293us/step - loss: 0.0014\n",
      "Epoch 17/50\n",
      "1248/1248 [==============================] - 0s 284us/step - loss: 0.0012\n",
      "Epoch 18/50\n",
      "1248/1248 [==============================] - 0s 281us/step - loss: 0.0013\n",
      "Epoch 19/50\n",
      "1248/1248 [==============================] - 0s 280us/step - loss: 0.0012\n",
      "Epoch 20/50\n",
      "1248/1248 [==============================] - 0s 294us/step - loss: 0.0013\n",
      "Epoch 21/50\n",
      "1248/1248 [==============================] - 0s 277us/step - loss: 0.0013\n",
      "Epoch 22/50\n",
      "1248/1248 [==============================] - 0s 284us/step - loss: 0.0010\n",
      "Epoch 23/50\n",
      "1248/1248 [==============================] - 0s 277us/step - loss: 0.0011\n",
      "Epoch 24/50\n",
      "1248/1248 [==============================] - 0s 276us/step - loss: 0.0011\n",
      "Epoch 25/50\n",
      "1248/1248 [==============================] - 0s 281us/step - loss: 0.0011\n",
      "Epoch 26/50\n",
      "1248/1248 [==============================] - 0s 281us/step - loss: 0.0012\n",
      "Epoch 27/50\n",
      "1248/1248 [==============================] - 0s 288us/step - loss: 0.0010\n",
      "Epoch 28/50\n",
      "1248/1248 [==============================] - 0s 275us/step - loss: 9.7366e-04\n",
      "Epoch 29/50\n",
      "1248/1248 [==============================] - 0s 284us/step - loss: 0.0011\n",
      "Epoch 30/50\n",
      "1248/1248 [==============================] - 0s 265us/step - loss: 0.0010\n",
      "Epoch 31/50\n",
      "1248/1248 [==============================] - 0s 276us/step - loss: 0.0010\n",
      "Epoch 32/50\n",
      "1248/1248 [==============================] - 0s 278us/step - loss: 7.8928e-04\n",
      "Epoch 33/50\n",
      "1248/1248 [==============================] - 0s 266us/step - loss: 9.1490e-04\n",
      "Epoch 34/50\n",
      "1248/1248 [==============================] - 0s 280us/step - loss: 9.3586e-04\n",
      "Epoch 35/50\n",
      "1248/1248 [==============================] - 0s 274us/step - loss: 8.8457e-04\n",
      "Epoch 36/50\n",
      "1248/1248 [==============================] - 0s 291us/step - loss: 8.3761e-04\n",
      "Epoch 37/50\n",
      "1248/1248 [==============================] - 0s 297us/step - loss: 7.9556e-04\n",
      "Epoch 38/50\n",
      "1248/1248 [==============================] - 0s 285us/step - loss: 8.2445e-04\n",
      "Epoch 39/50\n",
      "1248/1248 [==============================] - 0s 279us/step - loss: 8.9299e-04\n",
      "Epoch 40/50\n",
      "1248/1248 [==============================] - 0s 281us/step - loss: 7.7278e-04\n",
      "Epoch 41/50\n",
      "1248/1248 [==============================] - 0s 281us/step - loss: 7.6274e-04\n",
      "Epoch 42/50\n",
      "1248/1248 [==============================] - 0s 281us/step - loss: 8.4909e-04\n",
      "Epoch 43/50\n",
      "1248/1248 [==============================] - 0s 284us/step - loss: 8.0119e-04\n",
      "Epoch 44/50\n",
      "1248/1248 [==============================] - 0s 291us/step - loss: 7.2966e-04\n",
      "Epoch 45/50\n",
      "1248/1248 [==============================] - 0s 299us/step - loss: 7.3095e-04\n",
      "Epoch 46/50\n",
      "1248/1248 [==============================] - 0s 296us/step - loss: 7.9598e-04\n",
      "Epoch 47/50\n",
      "1248/1248 [==============================] - 0s 270us/step - loss: 7.1790e-04\n",
      "Epoch 48/50\n",
      "1248/1248 [==============================] - 0s 276us/step - loss: 7.4390e-04\n",
      "Epoch 49/50\n",
      "1248/1248 [==============================] - 0s 274us/step - loss: 6.6195e-04\n",
      "Epoch 50/50\n",
      "1248/1248 [==============================] - 0s 278us/step - loss: 7.2260e-04\n"
     ]
    },
    {
     "data": {
      "text/plain": [
       "<keras.callbacks.History at 0x7fadb404fba8>"
      ]
     },
     "execution_count": 25,
     "metadata": {},
     "output_type": "execute_result"
    }
   ],
   "source": [
    "regressor.add(LSTM(units=100,return_sequences=True,input_shape=(10,1)))\n",
    "regressor.add(Dropout(0.2))\n",
    "#regressor.add(LSTM(units=100,return_sequences=True))\n",
    "#regressor.add(Dropout(0.2))\n",
    "regressor.add(Flatten(data_format=None))\n",
    "regressor.add(Dense(units=1))\n",
    "regressor.compile(optimizer=\"RMSprop\",loss='mean_squared_error')\n",
    "\n",
    "regressor.fit(gs_X_train,gs_y_train,epochs=50,batch_size=32)"
   ]
  },
  {
   "cell_type": "markdown",
   "metadata": {
    "_uuid": "7b265f5c6bbb8a8a3d1aed4d4cfe0c046e1e2790"
   },
   "source": [
    "Testing the model"
   ]
  },
  {
   "cell_type": "markdown",
   "metadata": {
    "_uuid": "fae1a6cc566f5e240113df4083c8c9ee4d622dd1"
   },
   "source": [
    "Original google stock price"
   ]
  },
  {
   "cell_type": "code",
   "execution_count": 26,
   "metadata": {
    "_uuid": "d8d1be097dff2b3155c5b16b36cab67e5965a4ae"
   },
   "outputs": [
    {
     "name": "stdout",
     "output_type": "stream",
     "text": [
      "(21, 1)\n"
     ]
    },
    {
     "data": {
      "text/plain": [
       "array([[ 991.46],\n",
       "       [ 988.49],\n",
       "       [ 985.54],\n",
       "       [1005.07],\n",
       "       [1001.84],\n",
       "       [1012.74],\n",
       "       [1011.  ],\n",
       "       [1009.35],\n",
       "       [1007.87],\n",
       "       [1005.65],\n",
       "       [1005.65],\n",
       "       [ 987.8 ],\n",
       "       [ 992.31],\n",
       "       [ 993.64],\n",
       "       [ 985.19],\n",
       "       [ 966.78],\n",
       "       [ 972.08],\n",
       "       [ 967.47],\n",
       "       [ 973.72],\n",
       "       [ 964.81],\n",
       "       [ 959.9 ]])"
      ]
     },
     "execution_count": 26,
     "metadata": {},
     "output_type": "execute_result"
    }
   ],
   "source": [
    "real_gstock_price=gs_df_test.iloc[:,4:5].values\n",
    "print(real_gstock_price.shape)\n",
    "real_gstock_price"
   ]
  },
  {
   "cell_type": "markdown",
   "metadata": {
    "_uuid": "58a4002363e328372a13051ddc50c4eb4a621f32"
   },
   "source": [
    "Determine the input_total google stock by concating the google stock train and google stock test."
   ]
  },
  {
   "cell_type": "code",
   "execution_count": 27,
   "metadata": {
    "_uuid": "7a9bd5f606e558f9196e81ee5b516ee0e734fdde"
   },
   "outputs": [
    {
     "data": {
      "text/plain": [
       "0    937.43\n",
       "1    934.28\n",
       "2    943.26\n",
       "3    947.55\n",
       "4    947.54\n",
       "Name: Close, dtype: float64"
      ]
     },
     "execution_count": 27,
     "metadata": {},
     "output_type": "execute_result"
    }
   ],
   "source": [
    "input_total=pd.concat([gs_df_train['Close'],gs_df_test['Close']],axis=0)\n",
    "input_total.head()"
   ]
  },
  {
   "cell_type": "markdown",
   "metadata": {
    "_uuid": "c40f4ddc737b0f33120cb53d01654624de21cefd"
   },
   "source": [
    "Finding the input_test from input_total"
   ]
  },
  {
   "cell_type": "code",
   "execution_count": 28,
   "metadata": {
    "_uuid": "088f9f61bf7c53dd6142b7491c8573e9acbcc23a"
   },
   "outputs": [
    {
     "name": "stdout",
     "output_type": "stream",
     "text": [
      "(31,)\n"
     ]
    },
    {
     "data": {
      "text/plain": [
       "array([ 372.42,  379.3 ,  384.21,  384.41,  381.63,  378.87,  381.27,\n",
       "        377.63,  378.63,  377.11,  991.46,  988.49,  985.54, 1005.07,\n",
       "       1001.84, 1012.74, 1011.  , 1009.35, 1007.87, 1005.65, 1005.65,\n",
       "        987.8 ,  992.31,  993.64,  985.19,  966.78,  972.08,  967.47,\n",
       "        973.72,  964.81,  959.9 ])"
      ]
     },
     "execution_count": 28,
     "metadata": {},
     "output_type": "execute_result"
    }
   ],
   "source": [
    "input_test=input_total[len(input_total)-len(gs_df_test)-10:].values\n",
    "print(input_test.shape)\n",
    "input_test"
   ]
  },
  {
   "cell_type": "markdown",
   "metadata": {
    "_uuid": "4513b8f67095c63a5933441895e36393a42be3ad"
   },
   "source": [
    "Reshaping the input_test"
   ]
  },
  {
   "cell_type": "code",
   "execution_count": 29,
   "metadata": {
    "_uuid": "47189340caba154c703372c7d6f4b576ed5f6fa1"
   },
   "outputs": [
    {
     "data": {
      "text/plain": [
       "array([[ 372.42],\n",
       "       [ 379.3 ],\n",
       "       [ 384.21],\n",
       "       [ 384.41],\n",
       "       [ 381.63],\n",
       "       [ 378.87],\n",
       "       [ 381.27],\n",
       "       [ 377.63],\n",
       "       [ 378.63],\n",
       "       [ 377.11],\n",
       "       [ 991.46],\n",
       "       [ 988.49],\n",
       "       [ 985.54],\n",
       "       [1005.07],\n",
       "       [1001.84],\n",
       "       [1012.74],\n",
       "       [1011.  ],\n",
       "       [1009.35],\n",
       "       [1007.87],\n",
       "       [1005.65],\n",
       "       [1005.65],\n",
       "       [ 987.8 ],\n",
       "       [ 992.31],\n",
       "       [ 993.64],\n",
       "       [ 985.19],\n",
       "       [ 966.78],\n",
       "       [ 972.08],\n",
       "       [ 967.47],\n",
       "       [ 973.72],\n",
       "       [ 964.81],\n",
       "       [ 959.9 ]])"
      ]
     },
     "execution_count": 29,
     "metadata": {},
     "output_type": "execute_result"
    }
   ],
   "source": [
    "input_test=input_test.reshape(-1,1)\n",
    "input_test"
   ]
  },
  {
   "cell_type": "markdown",
   "metadata": {
    "_uuid": "3ccbce5554649a3f7647c19dba82d34f60fed52b"
   },
   "source": [
    "Normaization of input_test"
   ]
  },
  {
   "cell_type": "code",
   "execution_count": 30,
   "metadata": {
    "_uuid": "da2aff5a67045896e5b00446149a4451ad69e59f"
   },
   "outputs": [
    {
     "name": "stdout",
     "output_type": "stream",
     "text": [
      "(31, 1)\n"
     ]
    },
    {
     "data": {
      "text/plain": [
       "array([[0.07129944],\n",
       "       [0.08141158],\n",
       "       [0.08862825],\n",
       "       [0.0889222 ],\n",
       "       [0.08483619],\n",
       "       [0.08077958],\n",
       "       [0.08430707],\n",
       "       [0.07895704],\n",
       "       [0.08042683],\n",
       "       [0.07819275],\n",
       "       [0.98115731],\n",
       "       [0.97679204],\n",
       "       [0.97245616],\n",
       "       [1.00116113],\n",
       "       [0.99641372],\n",
       "       [1.01243441],\n",
       "       [1.00987698],\n",
       "       [1.00745183],\n",
       "       [1.00527654],\n",
       "       [1.00201361],\n",
       "       [1.00201361],\n",
       "       [0.97577789],\n",
       "       [0.98240663],\n",
       "       [0.98436145],\n",
       "       [0.97194174],\n",
       "       [0.94488293],\n",
       "       [0.95267281],\n",
       "       [0.94589709],\n",
       "       [0.95508326],\n",
       "       [0.94198745],\n",
       "       [0.93477079]])"
      ]
     },
     "execution_count": 30,
     "metadata": {},
     "output_type": "execute_result"
    }
   ],
   "source": [
    "input_test=scaler.transform(input_test)\n",
    "print(input_test.shape)\n",
    "input_test"
   ]
  },
  {
   "cell_type": "markdown",
   "metadata": {
    "_uuid": "3189534399092cd34b9625278301bcc75a5c0dde"
   },
   "source": [
    "Setting the X_test"
   ]
  },
  {
   "cell_type": "code",
   "execution_count": 31,
   "metadata": {
    "_uuid": "4f958655396798af4fdd990426865fb5bc8b6e96"
   },
   "outputs": [
    {
     "name": "stdout",
     "output_type": "stream",
     "text": [
      "(21, 10)\n"
     ]
    },
    {
     "data": {
      "text/plain": [
       "array([[0.07129944, 0.08141158, 0.08862825, 0.0889222 , 0.08483619,\n",
       "        0.08077958, 0.08430707, 0.07895704, 0.08042683, 0.07819275],\n",
       "       [0.08141158, 0.08862825, 0.0889222 , 0.08483619, 0.08077958,\n",
       "        0.08430707, 0.07895704, 0.08042683, 0.07819275, 0.98115731],\n",
       "       [0.08862825, 0.0889222 , 0.08483619, 0.08077958, 0.08430707,\n",
       "        0.07895704, 0.08042683, 0.07819275, 0.98115731, 0.97679204],\n",
       "       [0.0889222 , 0.08483619, 0.08077958, 0.08430707, 0.07895704,\n",
       "        0.08042683, 0.07819275, 0.98115731, 0.97679204, 0.97245616],\n",
       "       [0.08483619, 0.08077958, 0.08430707, 0.07895704, 0.08042683,\n",
       "        0.07819275, 0.98115731, 0.97679204, 0.97245616, 1.00116113],\n",
       "       [0.08077958, 0.08430707, 0.07895704, 0.08042683, 0.07819275,\n",
       "        0.98115731, 0.97679204, 0.97245616, 1.00116113, 0.99641372],\n",
       "       [0.08430707, 0.07895704, 0.08042683, 0.07819275, 0.98115731,\n",
       "        0.97679204, 0.97245616, 1.00116113, 0.99641372, 1.01243441],\n",
       "       [0.07895704, 0.08042683, 0.07819275, 0.98115731, 0.97679204,\n",
       "        0.97245616, 1.00116113, 0.99641372, 1.01243441, 1.00987698],\n",
       "       [0.08042683, 0.07819275, 0.98115731, 0.97679204, 0.97245616,\n",
       "        1.00116113, 0.99641372, 1.01243441, 1.00987698, 1.00745183],\n",
       "       [0.07819275, 0.98115731, 0.97679204, 0.97245616, 1.00116113,\n",
       "        0.99641372, 1.01243441, 1.00987698, 1.00745183, 1.00527654],\n",
       "       [0.98115731, 0.97679204, 0.97245616, 1.00116113, 0.99641372,\n",
       "        1.01243441, 1.00987698, 1.00745183, 1.00527654, 1.00201361],\n",
       "       [0.97679204, 0.97245616, 1.00116113, 0.99641372, 1.01243441,\n",
       "        1.00987698, 1.00745183, 1.00527654, 1.00201361, 1.00201361],\n",
       "       [0.97245616, 1.00116113, 0.99641372, 1.01243441, 1.00987698,\n",
       "        1.00745183, 1.00527654, 1.00201361, 1.00201361, 0.97577789],\n",
       "       [1.00116113, 0.99641372, 1.01243441, 1.00987698, 1.00745183,\n",
       "        1.00527654, 1.00201361, 1.00201361, 0.97577789, 0.98240663],\n",
       "       [0.99641372, 1.01243441, 1.00987698, 1.00745183, 1.00527654,\n",
       "        1.00201361, 1.00201361, 0.97577789, 0.98240663, 0.98436145],\n",
       "       [1.01243441, 1.00987698, 1.00745183, 1.00527654, 1.00201361,\n",
       "        1.00201361, 0.97577789, 0.98240663, 0.98436145, 0.97194174],\n",
       "       [1.00987698, 1.00745183, 1.00527654, 1.00201361, 1.00201361,\n",
       "        0.97577789, 0.98240663, 0.98436145, 0.97194174, 0.94488293],\n",
       "       [1.00745183, 1.00527654, 1.00201361, 1.00201361, 0.97577789,\n",
       "        0.98240663, 0.98436145, 0.97194174, 0.94488293, 0.95267281],\n",
       "       [1.00527654, 1.00201361, 1.00201361, 0.97577789, 0.98240663,\n",
       "        0.98436145, 0.97194174, 0.94488293, 0.95267281, 0.94589709],\n",
       "       [1.00201361, 1.00201361, 0.97577789, 0.98240663, 0.98436145,\n",
       "        0.97194174, 0.94488293, 0.95267281, 0.94589709, 0.95508326],\n",
       "       [1.00201361, 0.97577789, 0.98240663, 0.98436145, 0.97194174,\n",
       "        0.94488293, 0.95267281, 0.94589709, 0.95508326, 0.94198745]])"
      ]
     },
     "execution_count": 31,
     "metadata": {},
     "output_type": "execute_result"
    }
   ],
   "source": [
    "gs_X_test=[]\n",
    "for i in range(10,31):\n",
    "    gs_X_test.append(input_test[i-10:i,0])\n",
    "gs_X_test=np.array(gs_X_test)\n",
    "print(gs_X_test.shape)\n",
    "gs_X_test"
   ]
  },
  {
   "cell_type": "markdown",
   "metadata": {
    "_uuid": "5fad8b37f386be846c253fed10ed153712038069"
   },
   "source": [
    "Reshaping the X_test to model require format"
   ]
  },
  {
   "cell_type": "code",
   "execution_count": 32,
   "metadata": {
    "_uuid": "e5fc343c755d03d62467147f2cf83646580f0799"
   },
   "outputs": [
    {
     "name": "stdout",
     "output_type": "stream",
     "text": [
      "(21, 10, 1)\n"
     ]
    },
    {
     "data": {
      "text/plain": [
       "array([[[0.07129944],\n",
       "        [0.08141158],\n",
       "        [0.08862825],\n",
       "        [0.0889222 ],\n",
       "        [0.08483619],\n",
       "        [0.08077958],\n",
       "        [0.08430707],\n",
       "        [0.07895704],\n",
       "        [0.08042683],\n",
       "        [0.07819275]],\n",
       "\n",
       "       [[0.08141158],\n",
       "        [0.08862825],\n",
       "        [0.0889222 ],\n",
       "        [0.08483619],\n",
       "        [0.08077958],\n",
       "        [0.08430707],\n",
       "        [0.07895704],\n",
       "        [0.08042683],\n",
       "        [0.07819275],\n",
       "        [0.98115731]],\n",
       "\n",
       "       [[0.08862825],\n",
       "        [0.0889222 ],\n",
       "        [0.08483619],\n",
       "        [0.08077958],\n",
       "        [0.08430707],\n",
       "        [0.07895704],\n",
       "        [0.08042683],\n",
       "        [0.07819275],\n",
       "        [0.98115731],\n",
       "        [0.97679204]],\n",
       "\n",
       "       [[0.0889222 ],\n",
       "        [0.08483619],\n",
       "        [0.08077958],\n",
       "        [0.08430707],\n",
       "        [0.07895704],\n",
       "        [0.08042683],\n",
       "        [0.07819275],\n",
       "        [0.98115731],\n",
       "        [0.97679204],\n",
       "        [0.97245616]],\n",
       "\n",
       "       [[0.08483619],\n",
       "        [0.08077958],\n",
       "        [0.08430707],\n",
       "        [0.07895704],\n",
       "        [0.08042683],\n",
       "        [0.07819275],\n",
       "        [0.98115731],\n",
       "        [0.97679204],\n",
       "        [0.97245616],\n",
       "        [1.00116113]],\n",
       "\n",
       "       [[0.08077958],\n",
       "        [0.08430707],\n",
       "        [0.07895704],\n",
       "        [0.08042683],\n",
       "        [0.07819275],\n",
       "        [0.98115731],\n",
       "        [0.97679204],\n",
       "        [0.97245616],\n",
       "        [1.00116113],\n",
       "        [0.99641372]],\n",
       "\n",
       "       [[0.08430707],\n",
       "        [0.07895704],\n",
       "        [0.08042683],\n",
       "        [0.07819275],\n",
       "        [0.98115731],\n",
       "        [0.97679204],\n",
       "        [0.97245616],\n",
       "        [1.00116113],\n",
       "        [0.99641372],\n",
       "        [1.01243441]],\n",
       "\n",
       "       [[0.07895704],\n",
       "        [0.08042683],\n",
       "        [0.07819275],\n",
       "        [0.98115731],\n",
       "        [0.97679204],\n",
       "        [0.97245616],\n",
       "        [1.00116113],\n",
       "        [0.99641372],\n",
       "        [1.01243441],\n",
       "        [1.00987698]],\n",
       "\n",
       "       [[0.08042683],\n",
       "        [0.07819275],\n",
       "        [0.98115731],\n",
       "        [0.97679204],\n",
       "        [0.97245616],\n",
       "        [1.00116113],\n",
       "        [0.99641372],\n",
       "        [1.01243441],\n",
       "        [1.00987698],\n",
       "        [1.00745183]],\n",
       "\n",
       "       [[0.07819275],\n",
       "        [0.98115731],\n",
       "        [0.97679204],\n",
       "        [0.97245616],\n",
       "        [1.00116113],\n",
       "        [0.99641372],\n",
       "        [1.01243441],\n",
       "        [1.00987698],\n",
       "        [1.00745183],\n",
       "        [1.00527654]],\n",
       "\n",
       "       [[0.98115731],\n",
       "        [0.97679204],\n",
       "        [0.97245616],\n",
       "        [1.00116113],\n",
       "        [0.99641372],\n",
       "        [1.01243441],\n",
       "        [1.00987698],\n",
       "        [1.00745183],\n",
       "        [1.00527654],\n",
       "        [1.00201361]],\n",
       "\n",
       "       [[0.97679204],\n",
       "        [0.97245616],\n",
       "        [1.00116113],\n",
       "        [0.99641372],\n",
       "        [1.01243441],\n",
       "        [1.00987698],\n",
       "        [1.00745183],\n",
       "        [1.00527654],\n",
       "        [1.00201361],\n",
       "        [1.00201361]],\n",
       "\n",
       "       [[0.97245616],\n",
       "        [1.00116113],\n",
       "        [0.99641372],\n",
       "        [1.01243441],\n",
       "        [1.00987698],\n",
       "        [1.00745183],\n",
       "        [1.00527654],\n",
       "        [1.00201361],\n",
       "        [1.00201361],\n",
       "        [0.97577789]],\n",
       "\n",
       "       [[1.00116113],\n",
       "        [0.99641372],\n",
       "        [1.01243441],\n",
       "        [1.00987698],\n",
       "        [1.00745183],\n",
       "        [1.00527654],\n",
       "        [1.00201361],\n",
       "        [1.00201361],\n",
       "        [0.97577789],\n",
       "        [0.98240663]],\n",
       "\n",
       "       [[0.99641372],\n",
       "        [1.01243441],\n",
       "        [1.00987698],\n",
       "        [1.00745183],\n",
       "        [1.00527654],\n",
       "        [1.00201361],\n",
       "        [1.00201361],\n",
       "        [0.97577789],\n",
       "        [0.98240663],\n",
       "        [0.98436145]],\n",
       "\n",
       "       [[1.01243441],\n",
       "        [1.00987698],\n",
       "        [1.00745183],\n",
       "        [1.00527654],\n",
       "        [1.00201361],\n",
       "        [1.00201361],\n",
       "        [0.97577789],\n",
       "        [0.98240663],\n",
       "        [0.98436145],\n",
       "        [0.97194174]],\n",
       "\n",
       "       [[1.00987698],\n",
       "        [1.00745183],\n",
       "        [1.00527654],\n",
       "        [1.00201361],\n",
       "        [1.00201361],\n",
       "        [0.97577789],\n",
       "        [0.98240663],\n",
       "        [0.98436145],\n",
       "        [0.97194174],\n",
       "        [0.94488293]],\n",
       "\n",
       "       [[1.00745183],\n",
       "        [1.00527654],\n",
       "        [1.00201361],\n",
       "        [1.00201361],\n",
       "        [0.97577789],\n",
       "        [0.98240663],\n",
       "        [0.98436145],\n",
       "        [0.97194174],\n",
       "        [0.94488293],\n",
       "        [0.95267281]],\n",
       "\n",
       "       [[1.00527654],\n",
       "        [1.00201361],\n",
       "        [1.00201361],\n",
       "        [0.97577789],\n",
       "        [0.98240663],\n",
       "        [0.98436145],\n",
       "        [0.97194174],\n",
       "        [0.94488293],\n",
       "        [0.95267281],\n",
       "        [0.94589709]],\n",
       "\n",
       "       [[1.00201361],\n",
       "        [1.00201361],\n",
       "        [0.97577789],\n",
       "        [0.98240663],\n",
       "        [0.98436145],\n",
       "        [0.97194174],\n",
       "        [0.94488293],\n",
       "        [0.95267281],\n",
       "        [0.94589709],\n",
       "        [0.95508326]],\n",
       "\n",
       "       [[1.00201361],\n",
       "        [0.97577789],\n",
       "        [0.98240663],\n",
       "        [0.98436145],\n",
       "        [0.97194174],\n",
       "        [0.94488293],\n",
       "        [0.95267281],\n",
       "        [0.94589709],\n",
       "        [0.95508326],\n",
       "        [0.94198745]]])"
      ]
     },
     "execution_count": 32,
     "metadata": {},
     "output_type": "execute_result"
    }
   ],
   "source": [
    "gs_X_test=np.reshape(gs_X_test,(gs_X_test.shape[0],gs_X_test.shape[1],1))\n",
    "print(gs_X_test.shape)\n",
    "gs_X_test"
   ]
  },
  {
   "cell_type": "markdown",
   "metadata": {
    "_uuid": "4410217d96c268cfaa80c41d5f9185c5b18eec0b"
   },
   "source": [
    "Predict the google stock price"
   ]
  },
  {
   "cell_type": "code",
   "execution_count": 33,
   "metadata": {
    "_uuid": "6d77b9d88a1f6efb98a642eab7d06430062a381d"
   },
   "outputs": [
    {
     "data": {
      "text/plain": [
       "array([[0.0831104 ],\n",
       "       [0.3016489 ],\n",
       "       [0.5737884 ],\n",
       "       [0.7501558 ],\n",
       "       [0.8472149 ],\n",
       "       [0.86794853],\n",
       "       [0.8748988 ],\n",
       "       [0.8787496 ],\n",
       "       [0.89941514],\n",
       "       [0.93974227],\n",
       "       [1.0186641 ],\n",
       "       [1.0169691 ],\n",
       "       [1.0105064 ],\n",
       "       [1.006678  ],\n",
       "       [1.0041817 ],\n",
       "       [1.0016632 ],\n",
       "       [0.9916527 ],\n",
       "       [0.98299694],\n",
       "       [0.9768244 ],\n",
       "       [0.974752  ],\n",
       "       [0.9722369 ]], dtype=float32)"
      ]
     },
     "execution_count": 33,
     "metadata": {},
     "output_type": "execute_result"
    }
   ],
   "source": [
    "predicted_gstock_price=regressor.predict(gs_X_test)\n",
    "predicted_gstock_price"
   ]
  },
  {
   "cell_type": "markdown",
   "metadata": {
    "_uuid": "5af3f9a2c3c2c48b32b185225214924d5a7d2c3f"
   },
   "source": [
    "predict the google stock prices by using inverse transformation"
   ]
  },
  {
   "cell_type": "code",
   "execution_count": 34,
   "metadata": {
    "_uuid": "436ea8552f4de3fae46256abd4fa210d42a81a69"
   },
   "outputs": [
    {
     "data": {
      "text/plain": [
       "array([[ 380.45584],\n",
       "       [ 529.1429 ],\n",
       "       [ 714.29846],\n",
       "       [ 834.2935 ],\n",
       "       [ 900.3296 ],\n",
       "       [ 914.43616],\n",
       "       [ 919.1649 ],\n",
       "       [ 921.7849 ],\n",
       "       [ 935.8451 ],\n",
       "       [ 963.2824 ],\n",
       "       [1016.9785 ],\n",
       "       [1015.82526],\n",
       "       [1011.4283 ],\n",
       "       [1008.82355],\n",
       "       [1007.1252 ],\n",
       "       [1005.4116 ],\n",
       "       [ 998.60077],\n",
       "       [ 992.7117 ],\n",
       "       [ 988.512  ],\n",
       "       [ 987.102  ],\n",
       "       [ 985.3908 ]], dtype=float32)"
      ]
     },
     "execution_count": 34,
     "metadata": {},
     "output_type": "execute_result"
    }
   ],
   "source": [
    "predicted_gstock_price=scaler.inverse_transform(predicted_gstock_price)\n",
    "predicted_gstock_price"
   ]
  },
  {
   "cell_type": "markdown",
   "metadata": {
    "_uuid": "48a35e7b2427cf784241ce99d01101105404b1d7"
   },
   "source": [
    "plot the original and predicted google stock price"
   ]
  },
  {
   "cell_type": "code",
   "execution_count": 35,
   "metadata": {
    "_uuid": "9eb1b67ebb942800400201eb3e44e4ba3c64bbf5"
   },
   "outputs": [
    {
     "data": {
      "image/png": "[encoded data removed]",
      "text/plain": [
       "<Figure size 432x288 with 1 Axes>"
      ]
     },
     "metadata": {},
     "output_type": "display_data"
    }
   ],
   "source": [
    "plt.plot(real_gstock_price,color='r',alpha=0.3,label='Real stock price')\n",
    "plt.plot(predicted_gstock_price,color='g',label='Predicted stock price')\n",
    "plt.title('Google Stock Price Prediction')\n",
    "plt.xlabel('Time')\n",
    "plt.ylabel('Google Stock Price')\n",
    "plt.legend()\n",
    "plt.show()"
   ]
  },
  {
   "cell_type": "markdown",
   "metadata": {
    "_uuid": "196625467d1b445a8a6de2fb78b902dd66d06218"
   },
   "source": [
    "From the two approaches, we can conclude that we are predicting almost similar google stock prices."
   ]
  }
 ],
 "metadata": {
  "kernelspec": {
   "display_name": "Python 3",
   "language": "python",
   "name": "python3"
  },
  "language_info": {
   "codemirror_mode": {
    "name": "ipython",
    "version": 3
   },
   "file_extension": ".py",
   "mimetype": "text/x-python",
   "name": "python",
   "nbconvert_exporter": "python",
   "pygments_lexer": "ipython3",
   "version": "3.6.6"
  }
 },
 "nbformat": 4,
 "nbformat_minor": 1
}
