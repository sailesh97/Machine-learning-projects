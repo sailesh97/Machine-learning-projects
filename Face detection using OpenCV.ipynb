{
 "cells": [
  {
   "cell_type": "code",
   "execution_count": 1,
   "metadata": {},
   "outputs": [],
   "source": [
    "import cv2\n",
    "import numpy as np\n",
    "import matplotlib.pyplot as plt\n",
    "import pandas as pd\n"
   ]
  },
  {
   "cell_type": "code",
   "execution_count": 8,
   "metadata": {},
   "outputs": [
    {
     "name": "stdout",
     "output_type": "stream",
     "text": [
      "[[254 374 419 419]]\n"
     ]
    }
   ],
   "source": [
    "#create a cascadeClassifier object\n",
    "face_cascade=cv2.CascadeClassifier(\"haarcascade_frontalface_default.xml\")#face features\n",
    "#Reading the image \n",
    "img=cv2.imread('LP.jpg')\n",
    "#Reading object as grey scale image\n",
    "gray_img=cv2.cvtColor(img,cv2.COLOR_BGR2GRAY)\n",
    "#Search for the coordinates of the image\n",
    "faces=face_cascade.detectMultiScale(gray_img,scaleFactor=1.05,minNeighbors=6)\n",
    "print(faces)"
   ]
  },
  {
   "cell_type": "code",
   "execution_count": null,
   "metadata": {},
   "outputs": [],
   "source": [
    "#Method to create the face rectangle\n",
    "for x,y,w,h in faces:\n",
    "    img=cv2.rectangle(img,(x,y),(x+w,y+h),(0,255,0),3)\n",
    "resize_image=cv2.resize(img,(int(img.shape[1]/2),int(img.shape[0]/2)))\n",
    "cv2.imshow('LP',resize_image)\n",
    "cv2.waitKey(0)\n",
    "cv2.destroyALLWindows()\n"
   ]
  }
 ],
 "metadata": {
  "kernelspec": {
   "display_name": "Python 3",
   "language": "python",
   "name": "python3"
  },
  "language_info": {
   "codemirror_mode": {
    "name": "ipython",
    "version": 3
   },
   "file_extension": ".py",
   "mimetype": "text/x-python",
   "name": "python",
   "nbconvert_exporter": "python",
   "pygments_lexer": "ipython3",
   "version": "3.6.7"
  }
 },
 "nbformat": 4,
 "nbformat_minor": 2
}
